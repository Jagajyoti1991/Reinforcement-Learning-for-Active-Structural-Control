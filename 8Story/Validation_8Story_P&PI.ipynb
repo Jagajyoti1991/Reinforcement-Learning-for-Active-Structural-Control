{
 "cells": [
  {
   "cell_type": "code",
   "execution_count": 5,
   "id": "a4962aa3",
   "metadata": {},
   "outputs": [],
   "source": [
    "# -*- coding: Paper1 -*-\n",
    "\"\"\"\n",
    "This code belongs to the paper:\n",
    "-- An Iterative Gradient Descent-Based Reinforcement Learning Policy \n",
    "   for Active Control of Structural Vibrations, Computers & Structures.\n",
    "-- Jagajyoti Panda, Mudit Chopra, Vasant Matsagar, Souvik Chakraborty, IIT Delhi.\n",
    "   \n",
    "This code is to present the robust performance of trained RL controllers in P and PI feedback.\n",
    "-- Case study II: 8-story benchmark building (section 5.2.2)\n",
    "\"\"\"\n",
    "from gym import Env\n",
    "from gym.spaces import Discrete, Box\n",
    "import numpy as np\n",
    "import random\n",
    "import os\n",
    "from numpy import abs as Abs\n",
    "from numpy import sign as sign\n",
    "from numpy import sqrt,pi,array\n",
    "from scipy import signal\n",
    " \n",
    " \n",
    "import matplotlib\n",
    "import matplotlib.pyplot as plt\n",
    "\n",
    "from control.matlab import *  # MATLAB-like functions\n",
    "import control as ct\n",
    " \n",
    "import tensorflow as tf\n",
    "from gym import Env\n",
    "from gym.spaces import Discrete, Box\n",
    " \n",
    " \n",
    "from tensorflow.keras.models import Sequential\n",
    "from tensorflow.keras.layers import Dense, Flatten\n",
    "from tensorflow.keras.optimizers import Adam"
   ]
  },
  {
   "cell_type": "code",
   "execution_count": 6,
   "id": "435a9dd2",
   "metadata": {},
   "outputs": [
    {
     "name": "stdout",
     "output_type": "stream",
     "text": [
      "60\n"
     ]
    }
   ],
   "source": [
    "GMdt = np.loadtxt('GMdt.txt', unpack = True)\n",
    "print(len(GMdt))"
   ]
  },
  {
   "cell_type": "code",
   "execution_count": 7,
   "id": "e69fa7c2",
   "metadata": {},
   "outputs": [
    {
     "name": "stdout",
     "output_type": "stream",
     "text": [
      "[[-1.07895273e-04 -2.14393736e-04 -3.12562478e-04 -4.00091059e-04\n",
      "  -4.74017252e-04 -5.31796932e-04 -5.71452555e-04 -5.91550470e-04\n",
      "   6.70918372e-06  1.13622354e-05  1.41018314e-05  1.32146395e-05\n",
      "   1.14791339e-05  9.04526455e-06  6.88212879e-06  3.30314582e-07]\n",
      " [-2.14363476e-04 -4.21683399e-04 -6.14704337e-04 -7.86935762e-04\n",
      "  -9.32297310e-04 -1.04593795e-03 -1.12393311e-03 -1.16346206e-03\n",
      "   1.37481959e-05  2.30035781e-05  2.84270755e-05  2.67027338e-05\n",
      "   2.32960412e-05  1.85125462e-05  1.42602158e-05  1.37509654e-06]\n",
      " [-3.12564058e-04 -6.14730969e-04 -8.95123989e-04 -1.14823283e-03\n",
      "  -1.35914636e-03 -1.52480440e-03 -1.63851084e-03 -1.69613773e-03\n",
      "   2.01749395e-05  3.37379146e-05  4.16869550e-05  3.93690248e-05\n",
      "   3.44191373e-05  2.74477887e-05  2.12499655e-05  2.46619953e-06]\n",
      " [-4.00087967e-04 -7.86909115e-04 -1.14823270e-03 -1.46735689e-03\n",
      "  -1.73970608e-03 -1.95186498e-03 -2.09737172e-03 -2.17113677e-03\n",
      "   2.59120726e-05  4.33221339e-05  5.34871448e-05  5.00800038e-05\n",
      "   4.37152178e-05  3.47976145e-05  2.68634777e-05  2.81872491e-06]\n",
      " [-4.74018124e-04 -9.32297933e-04 -1.35917720e-03 -1.73970706e-03\n",
      "  -2.06015822e-03 -2.31354653e-03 -2.48493361e-03 -2.57231398e-03\n",
      "   3.07679839e-05  5.14353519e-05  6.35125958e-05  5.97082512e-05\n",
      "   5.21986793e-05  4.18225552e-05  3.24364096e-05  3.94942252e-06]\n",
      " [-5.31796879e-04 -1.04593744e-03 -1.52480312e-03 -1.95183441e-03\n",
      "  -2.31354576e-03 -2.59329082e-03 -2.78780760e-03 -2.88587231e-03\n",
      "   3.45597398e-05  5.77693150e-05  7.13280933e-05  6.70701414e-05\n",
      "   5.86184565e-05  4.65630502e-05  3.60051931e-05  4.04589276e-06]\n",
      " [-5.71452774e-04 -1.12393308e-03 -1.63851029e-03 -2.09737207e-03\n",
      "  -2.48495918e-03 -2.78778202e-03 -2.99570870e-03 -3.10107003e-03\n",
      "   3.71649525e-05  6.21221313e-05  7.67001557e-05  7.21283505e-05\n",
      "   6.30616146e-05  5.03109732e-05  3.89798322e-05  4.63749110e-06]\n",
      " [-5.91550758e-04 -1.16346206e-03 -1.69613740e-03 -2.17113720e-03\n",
      "  -2.57231758e-03 -2.88586872e-03 -3.10106992e-03 -3.21013633e-03\n",
      "   3.84848691e-05  6.43272914e-05  7.94214040e-05  7.46900989e-05\n",
      "   6.53054903e-05  5.21137845e-05  4.03847513e-05  4.83463902e-06]\n",
      " [ 2.20881746e-04  1.55749128e-05  2.02292196e-05  2.57568493e-05\n",
      "   3.08892480e-05  3.46174982e-05  3.72092328e-05  3.85401369e-05\n",
      "  -4.89023912e-05 -5.61129393e-05 -5.85712021e-05 -5.96926236e-05\n",
      "  -6.03726661e-05 -6.07653767e-05 -6.09890781e-05 -6.07425636e-05]\n",
      " [ 2.39830258e-05  2.32485425e-05  4.56058164e-05  3.14455416e-05\n",
      "   5.13129416e-05  5.77923374e-05  6.21199221e-05  6.43268532e-05\n",
      "  -1.39039639e-05 -2.09950999e-05 -2.43362379e-05 -2.36303649e-05\n",
      "  -2.42277559e-05 -2.45877774e-05 -2.47653999e-05 -2.42559989e-05]\n",
      " [ 1.41134874e-05  3.06456636e-05  2.41443600e-04 -1.46317377e-04\n",
      "   6.16086082e-05  7.13827713e-05  7.66155732e-05  7.93606649e-05\n",
      "  -1.32877233e-05 -2.13398639e-05 -2.30004604e-05  1.18109991e-05\n",
      "   1.33612358e-05  1.30122844e-05  1.28432431e-05  1.34966098e-05]\n",
      " [ 1.40963851e-05  2.44893065e-05 -1.60662859e-04  2.50247415e-04\n",
      "   7.39033888e-05  5.47255329e-05  7.20643161e-05  7.47810877e-05\n",
      "  -1.47331372e-05 -2.40279524e-05 -3.15740860e-05 -7.07359865e-05\n",
      "  -7.46308530e-05 -7.34635311e-05 -7.39632585e-05 -7.35963232e-05]\n",
      " [ 1.16916039e-05  2.30526350e-05  2.16084458e-05  5.79540615e-05\n",
      "   2.52061926e-04 -1.41251921e-04  6.06456784e-05  6.57988816e-05\n",
      "  -1.45521497e-05 -2.37162403e-05 -2.88666371e-05 -3.36346823e-05\n",
      "  -3.29691891e-05  2.54644098e-06  4.32471802e-06  4.58985822e-06]\n",
      " [ 9.35065399e-06  1.86206791e-05  2.75080078e-05  3.33042222e-05\n",
      "  -1.58114158e-04  2.46637656e-04  5.27401924e-05  5.16244082e-05\n",
      "  -1.51319260e-05 -2.49206792e-05 -3.05694025e-05 -3.38137453e-05\n",
      "  -3.83509172e-05 -7.63167107e-05 -7.96436800e-05 -7.95956415e-05]\n",
      " [ 7.12660510e-06  1.42670823e-05  2.10514986e-05  2.69689177e-05\n",
      "   2.03287831e-05  4.81288939e-05  3.91321536e-05  4.03558114e-05\n",
      "  -1.49898664e-05 -2.46800464e-05 -3.02589841e-05 -3.34728433e-05\n",
      "  -3.57889469e-05 -3.94653686e-05 -4.05873784e-05 -4.07017660e-05]\n",
      " [ 5.71474606e-07  1.37561430e-06  2.23698335e-06  3.03683442e-06\n",
      "   3.31980739e-06  4.68428659e-06  4.65066376e-06  4.83383734e-06\n",
      "  -1.46523921e-05 -2.41449984e-05 -2.96410228e-05 -3.29840860e-05\n",
      "  -3.53322244e-05 -3.71082483e-05 -3.82583726e-05 -3.87864818e-05]]\n"
     ]
    }
   ],
   "source": [
    "# Proportional Controller (8storey)\n",
    "BKt = np.load('BKt_P8.npy')\n",
    "Ad = np.load('Ad_P8.npy')\n",
    "Bd = np.load('Bd_P8.npy')\n",
    "Cd1 = np.load('Cd1_P8.npy')\n",
    "Cd = np.load('Cd_P8.npy')\n",
    "Dd = np.load('Dd_P8.npy')\n",
    "Ed = np.load('Ed_P8.npy')\n",
    "Kpo = np.load('Kpo_P8.npy')\n",
    "print(BKt)"
   ]
  },
  {
   "cell_type": "code",
   "execution_count": 10,
   "id": "1fa536fe",
   "metadata": {},
   "outputs": [
    {
     "name": "stdout",
     "output_type": "stream",
     "text": [
      "[[ 5.29505677e-07  1.38049543e-06  2.30160224e-06  3.03255699e-06\n",
      "   3.64783431e-06  4.24184955e-06  4.57265266e-06  4.74094418e-06\n",
      "  -5.09028618e-07 -9.21653120e-07 -1.23644844e-06 -1.46602771e-06\n",
      "  -1.62684968e-06 -1.71874836e-06 -1.77618837e-06 -1.76007643e-06\n",
      "  -3.93487570e-05 -1.38403839e-04 -1.83611742e-04]\n",
      " [ 1.74115084e-06  3.44726507e-06  5.06882425e-06  6.50451933e-06\n",
      "   7.71446004e-06  8.66688720e-06  9.31773939e-06  9.64786874e-06\n",
      "   1.19275769e-07  2.23897743e-07  3.18064858e-07  4.31159989e-07\n",
      "   5.30760092e-07  6.16954436e-07  6.81882274e-07  8.02563239e-07\n",
      "  -7.54285669e-05 -2.70903797e-04 -3.60481077e-04]\n",
      " [ 2.28909359e-06  4.78145806e-06  7.70244875e-06  9.78127784e-06\n",
      "   1.15606035e-05  1.28711718e-05  1.38206054e-05  1.43017189e-05\n",
      "   4.69680410e-07  9.88358102e-07  1.56105742e-06  2.08093094e-06\n",
      "   2.49594337e-06  2.80746256e-06  3.02609554e-06  3.26418578e-06\n",
      "  -1.10687512e-04 -3.94165802e-04 -5.25002785e-04]\n",
      " [ 3.59478417e-06  6.79061589e-06  9.17839996e-06  1.18843239e-05\n",
      "   1.41337223e-05  1.60143152e-05  1.72328577e-05  1.78512070e-05\n",
      "  -1.61496289e-08 -1.53600031e-07 -4.04219552e-07 -5.38319779e-07\n",
      "  -6.10173753e-07 -6.22085609e-07 -6.15895851e-07 -4.47649242e-07\n",
      "  -1.39785592e-04 -5.06307868e-04 -6.73187363e-04]\n",
      " [ 3.95705536e-06  7.74753292e-06  1.09894711e-05  1.41810332e-05\n",
      "   1.68780894e-05  1.96128133e-05  2.10720656e-05  2.18087212e-05\n",
      "   4.26026141e-07  7.93520038e-07  1.11119311e-06  1.54219666e-06\n",
      "   2.01697145e-06  2.53431194e-06  2.89597214e-06  3.27261310e-06\n",
      "  -1.66486732e-04 -5.99644986e-04 -7.95910557e-04]\n",
      " [ 4.38173203e-06  8.64097114e-06  1.29027110e-05  1.64798145e-05\n",
      "   1.94795133e-05  2.12279327e-05  2.28335939e-05  2.36513976e-05\n",
      "   2.19235356e-07  3.91055219e-07  5.24032915e-07  6.29710907e-07\n",
      "   6.28679886e-07  5.19491799e-07  4.65700241e-07  6.58833129e-07\n",
      "  -1.86939485e-04 -6.71113011e-04 -8.95118535e-04]\n",
      " [ 4.73632602e-06  9.31462908e-06  1.36044559e-05  1.74529256e-05\n",
      "   2.06919557e-05  2.32169275e-05  2.49589673e-05  2.58425913e-05\n",
      "   3.73008444e-07  6.87461541e-07  9.52835869e-07  1.26209043e-06\n",
      "   1.53068708e-06  1.75684748e-06  1.92802884e-06  2.25010184e-06\n",
      "  -2.00809769e-04 -7.21921235e-04 -9.60772539e-04]\n",
      " [ 4.90515534e-06  9.64560020e-06  1.40770087e-05  1.80616946e-05\n",
      "   2.14157304e-05  2.40525665e-05  2.58567110e-05  2.67717055e-05\n",
      "   3.92465930e-07  7.23947010e-07  1.00418041e-06  1.33218300e-06\n",
      "   1.62054316e-06  1.86732907e-06  2.05299992e-06  2.39068387e-06\n",
      "  -2.07870691e-04 -7.47344943e-04 -9.94536650e-04]\n",
      " [-7.03235001e-05 -7.34553807e-05 -5.23428345e-05 -5.22030164e-05\n",
      "  -5.21336847e-05 -3.10402105e-05 -3.10756279e-05 -3.09991354e-05\n",
      "  -1.10269343e-04 -1.99999343e-04 -2.69329810e-04 -3.24227336e-04\n",
      "  -3.64664377e-04 -3.90616144e-04 -4.07914228e-04 -4.16567214e-04\n",
      "  -1.90693723e-04 -1.01823258e-04 -2.75503554e-05]\n",
      " [-7.16263216e-06 -7.21380223e-06  7.02058095e-07  6.28030527e-07\n",
      "   8.89895562e-07  1.32837685e-06  1.37779892e-06  1.40365603e-06\n",
      "  -4.72498949e-06 -7.29997819e-06 -7.70280641e-06 -8.01289028e-06\n",
      "  -8.26190990e-06 -8.39805312e-06 -8.50182891e-06 -8.54989683e-06\n",
      "  -2.02344738e-06  6.92481815e-05  9.68870816e-05]\n",
      " [-5.36878434e-05 -5.33107197e-05  5.74887707e-05  5.44581954e-05\n",
      "   5.73559112e-05  4.31472369e-05  4.32114794e-05  4.31606321e-05\n",
      "   4.93045825e-05  1.13798655e-04  1.93374877e-04  2.58243153e-04\n",
      "   3.07446900e-04  3.41338392e-04  3.63912869e-04  3.75211227e-04\n",
      "  -1.27240774e-04  2.45025721e-04  2.40995190e-04]\n",
      " [ 5.42078171e-05  5.42093408e-05 -5.94016032e-05 -5.59779607e-05\n",
      "  -5.84018347e-05 -3.67433798e-05 -3.64546294e-05 -3.62636112e-05\n",
      "  -5.27323750e-05 -1.20498983e-04 -2.03043949e-04 -2.69548907e-04\n",
      "  -3.18958175e-04 -3.51513057e-04 -3.73242522e-04 -3.84107011e-04\n",
      "   1.82348628e-04 -5.27668246e-05  5.18125003e-05]\n",
      " [ 8.06453307e-06  8.19626123e-06 -5.07644025e-05 -4.97454686e-05\n",
      "  -4.70711219e-05  7.03126614e-05  7.33431340e-05  7.42376633e-05\n",
      "   1.79814990e-05  3.38460554e-05  4.77797974e-05  7.62201175e-05\n",
      "   1.19404778e-04  1.77380820e-04  2.15991452e-04  2.35295999e-04\n",
      "   5.48168587e-05 -2.36748581e-05  3.64375176e-04]\n",
      " [-4.18944485e-06 -3.74520784e-06  4.89802596e-05  4.86896849e-05\n",
      "   4.63092308e-05 -6.98074445e-05 -7.25793419e-05 -7.33365227e-05\n",
      "  -2.77308212e-05 -5.40091948e-05 -7.88023623e-05 -1.16502109e-04\n",
      "  -1.67152789e-04 -2.30662178e-04 -2.73025966e-04 -2.94189019e-04\n",
      "   2.18560866e-05  2.62714465e-04 -2.19925174e-05]\n",
      " [ 6.60251652e-08  4.21328125e-07  3.88865742e-06  4.16724968e-06\n",
      "   4.28304094e-06 -2.42486414e-06 -2.44714713e-06 -2.41925364e-06\n",
      "  -5.16627088e-06 -1.01074128e-05 -1.47086862e-05 -1.97165703e-05\n",
      "  -2.50625062e-05 -3.06561398e-05 -3.44211412e-05 -3.62920055e-05\n",
      "   3.50505820e-05  1.40591704e-04  1.74947563e-04]\n",
      " [ 3.88770012e-07  7.95972400e-07  1.29934569e-06  1.66175527e-06\n",
      "   1.97114810e-06  1.98214879e-06  2.15020224e-06  2.23741189e-06\n",
      "  -3.89997075e-06 -7.64777742e-06 -1.11196513e-05 -1.42212989e-05\n",
      "  -1.68755619e-05 -1.89894423e-05 -2.04362563e-05 -2.11457268e-05\n",
      "   3.44487962e-05  1.28158139e-04  1.80695275e-04]\n",
      " [-3.86896138e-05 -7.57699475e-05 -1.10148019e-04 -1.40874068e-04\n",
      "  -1.66859311e-04 -1.87032014e-04 -2.00969556e-04 -2.08032614e-04\n",
      "   9.88198985e-06  1.76381101e-05  2.37500229e-05  2.78501109e-05\n",
      "   3.07402382e-05  3.26515582e-05  3.37080165e-05  3.23148395e-05\n",
      "  -4.53807275e-04 -1.56018699e-03 -2.09245500e-03]\n",
      " [-1.37636626e-04 -2.70872454e-04 -3.95261881e-04 -5.05736842e-04\n",
      "  -5.99155099e-04 -6.71445699e-04 -7.21543923e-04 -7.46937701e-04\n",
      "   3.81933019e-05  6.85051900e-05  9.25527988e-05  1.09144088e-04\n",
      "   1.21114224e-04  1.29250754e-04  1.33904967e-04  1.29327012e-04\n",
      "  -1.55935762e-03 -5.33939585e-03 -7.17480175e-03]\n",
      " [-1.83216969e-04 -3.60512241e-04 -5.25336236e-04 -6.72363557e-04\n",
      "  -7.96719971e-04 -8.94433822e-04 -9.61145351e-04 -9.94952029e-04\n",
      "   5.25921046e-05  9.46134192e-05  1.28164310e-04  1.51411499e-04\n",
      "   1.68083153e-04  1.79179332e-04  1.85573765e-04  1.79586710e-04\n",
      "  -2.09211363e-03 -7.17515301e-03 -9.64872090e-03]]\n"
     ]
    }
   ],
   "source": [
    "# PI Controller (8storey)\n",
    "BKti = np.load('BKt_PI8.npy')\n",
    "FI = np.load('FI_PI8.npy')\n",
    "gI = np.load('gI_PI8.npy')\n",
    "Cd1i = np.load('Cd1_PI8.npy')\n",
    "Cdi = np.load('Cdi_PI8.npy')\n",
    "Ddi = np.load('Ddi_PI8.npy')\n",
    "BIrd = np.load('Ed_PI8.npy')\n",
    "Kpoi = np.load('Kpo_PI8.npy')\n",
    "print(BKti)"
   ]
  },
  {
   "cell_type": "code",
   "execution_count": 11,
   "id": "dfbd4ec8",
   "metadata": {},
   "outputs": [
    {
     "name": "stdout",
     "output_type": "stream",
     "text": [
      "0.07705200956499841 0.09091104840580905\n"
     ]
    }
   ],
   "source": [
    "no = np.linalg.norm(Bd@Kpo)\n",
    "noi = np.linalg.norm(gI@Kpoi)\n",
    "print(no, noi)"
   ]
  },
  {
   "cell_type": "code",
   "execution_count": 12,
   "id": "c18f5540",
   "metadata": {},
   "outputs": [
    {
     "name": "stdout",
     "output_type": "stream",
     "text": [
      "0.01378206840305955 0.015984526335633267\n"
     ]
    }
   ],
   "source": [
    "npg = np.linalg.norm(BKt)\n",
    "npgi = np.linalg.norm(BKti)\n",
    "print(npg, npgi)"
   ]
  },
  {
   "cell_type": "code",
   "execution_count": 13,
   "id": "0130c939",
   "metadata": {},
   "outputs": [
    {
     "name": "stdout",
     "output_type": "stream",
     "text": [
      "(3, 16) (3, 19)\n"
     ]
    }
   ],
   "source": [
    "# Proposed controller (inv(B)@BKt)\n",
    "Kpt = (np.linalg.pinv(Bd)@BKt)\n",
    "Kpti = (np.linalg.pinv(gI)@BKti)\n",
    "print(Kpt.shape, Kpti.shape)"
   ]
  },
  {
   "cell_type": "code",
   "execution_count": 14,
   "id": "4984ef02",
   "metadata": {},
   "outputs": [
    {
     "name": "stdout",
     "output_type": "stream",
     "text": [
      "(19, 19)\n"
     ]
    }
   ],
   "source": [
    "n = 8\n",
    "r =3\n",
    "Qp = np.identity(2*n)\n",
    "Qpi = np.identity(2*n+r)\n",
    "print(Qpi.shape)"
   ]
  },
  {
   "cell_type": "code",
   "execution_count": 15,
   "id": "a5bf0991",
   "metadata": {},
   "outputs": [],
   "source": [
    "# Trained results\n",
    "xr = np.zeros([4100, 2*n, len(GMdt)])  # State\n",
    "yr = np.zeros([4100, len(Cd1), len(GMdt)])  # output\n",
    "xri = np.zeros([4100, 2*n+r, len(GMdt)])  # State\n",
    "yri = np.zeros([4100, len(Cd1i), len(GMdt)])  # output\n",
    "# Optimal results\n",
    "xo = np.zeros([4100, 2*n, len(GMdt)])\n",
    "xoi = np.zeros([4100, 2*n+r, len(GMdt)])\n",
    "xu= np.zeros([4100, 2*n, len(GMdt)])\n",
    "(i,j) = Cd.shape\n",
    "yu = np.zeros([4100, i, len(GMdt)])\n",
    "yo = np.zeros([4100, i, len(GMdt)])\n",
    "yoi = np.zeros([4100, i, len(GMdt)])"
   ]
  },
  {
   "cell_type": "code",
   "execution_count": 16,
   "id": "59df5913",
   "metadata": {},
   "outputs": [],
   "source": [
    "J1r = np.zeros([len(GMdt), n])\n",
    "J2r = np.zeros([len(GMdt), n])\n",
    "J3r = np.zeros([len(GMdt), n])\n",
    "J4r = np.zeros([len(GMdt), 1])\n",
    "J5r = np.zeros([len(GMdt), 3])\n",
    "J1o = np.zeros([len(GMdt), n])\n",
    "J2o = np.zeros([len(GMdt), n])\n",
    "J3o = np.zeros([len(GMdt), n])\n",
    "J4o = np.zeros([len(GMdt), 1])\n",
    "J5o = np.zeros([len(GMdt), 3])"
   ]
  },
  {
   "cell_type": "code",
   "execution_count": 17,
   "id": "9239ed9b",
   "metadata": {},
   "outputs": [],
   "source": [
    "J1ri = np.zeros([len(GMdt), n])\n",
    "J2ri = np.zeros([len(GMdt), n])\n",
    "J3ri = np.zeros([len(GMdt), n])\n",
    "J4ri = np.zeros([len(GMdt), 1])\n",
    "J5ri = np.zeros([len(GMdt), 3])\n",
    "J1oi = np.zeros([len(GMdt), n])\n",
    "J2oi = np.zeros([len(GMdt), n])\n",
    "J3oi = np.zeros([len(GMdt), n])\n",
    "J4oi = np.zeros([len(GMdt), 1])\n",
    "J5oi = np.zeros([len(GMdt), 3])"
   ]
  },
  {
   "cell_type": "code",
   "execution_count": 18,
   "id": "78020326",
   "metadata": {},
   "outputs": [],
   "source": [
    "Euct = np.zeros([4100, 1, len(GMdt)]) \n",
    "Eot = np.zeros([4100, 1, len(GMdt)])  \n",
    "Et = np.zeros([4100, 1, len(GMdt)]) \n",
    "Fot = np.zeros([4100, r, len(GMdt)])  \n",
    "Ft = np.zeros([4100, r, len(GMdt)]) "
   ]
  },
  {
   "cell_type": "code",
   "execution_count": 19,
   "id": "ff3d0fc0",
   "metadata": {},
   "outputs": [],
   "source": [
    "Eoti = np.zeros([4100, 1, len(GMdt)])  \n",
    "Eti = np.zeros([4100, 1, len(GMdt)]) \n",
    "Foti = np.zeros([4100, r, len(GMdt)])  \n",
    "Fti = np.zeros([4100, r, len(GMdt)]) "
   ]
  },
  {
   "cell_type": "code",
   "execution_count": 21,
   "id": "418c50f6",
   "metadata": {},
   "outputs": [
    {
     "name": "stdout",
     "output_type": "stream",
     "text": [
      "la49.dat\n",
      "[-0.010823000000000001 -0.011333 -0.011715 ... -0.018123 -0.019209\n",
      " -0.01822]\n"
     ]
    },
    {
     "data": {
      "image/png": "[encoded data removed]",
      "text/plain": [
       "<Figure size 432x288 with 1 Axes>"
      ]
     },
     "metadata": {
      "needs_background": "light"
     },
     "output_type": "display_data"
    },
    {
     "name": "stdout",
     "output_type": "stream",
     "text": [
      "la50.dat\n",
      "[-0.0015623 -0.001663 0.0001207 ... -0.0069499 -0.0055411 -0.0062433]\n"
     ]
    },
    {
     "data": {
      "image/png": "[encoded data removed]",
      "text/plain": [
       "<Figure size 432x288 with 1 Axes>"
      ]
     },
     "metadata": {
      "needs_background": "light"
     },
     "output_type": "display_data"
    },
    {
     "name": "stdout",
     "output_type": "stream",
     "text": [
      "la51.dat\n",
      "[0.0019339000000000001 0.028081000000000002 0.042504999999999994 ... 0.0\n",
      " 0.0 0.0]\n"
     ]
    },
    {
     "data": {
      "image/png": "[encoded data removed]",
      "text/plain": [
       "<Figure size 432x288 with 1 Axes>"
      ]
     },
     "metadata": {
      "needs_background": "light"
     },
     "output_type": "display_data"
    },
    {
     "name": "stdout",
     "output_type": "stream",
     "text": [
      "la52.dat\n",
      "[-0.02091 0.016228 0.025797 ... 0.0 0.0 0.0]\n"
     ]
    },
    {
     "data": {
      "image/png": "[encoded data removed]",
      "text/plain": [
       "<Figure size 432x288 with 1 Axes>"
      ]
     },
     "metadata": {
      "needs_background": "light"
     },
     "output_type": "display_data"
    },
    {
     "name": "stdout",
     "output_type": "stream",
     "text": [
      "la53.dat\n",
      "[-0.052344 -0.16985 0.00033269 ... -0.0013858000000000002 0.032789 0.0786]\n"
     ]
    },
    {
     "data": {
      "image/png": "[encoded data removed]",
      "text/plain": [
       "<Figure size 432x288 with 1 Axes>"
      ]
     },
     "metadata": {
      "needs_background": "light"
     },
     "output_type": "display_data"
    },
    {
     "name": "stdout",
     "output_type": "stream",
     "text": [
      "la54.dat\n",
      "[0.0063604 0.11373 0.0063855 ... -0.17533 -0.1868 -0.19794]\n"
     ]
    },
    {
     "data": {
      "image/png": "[encoded data removed]",
      "text/plain": [
       "<Figure size 432x288 with 1 Axes>"
      ]
     },
     "metadata": {
      "needs_background": "light"
     },
     "output_type": "display_data"
    },
    {
     "name": "stdout",
     "output_type": "stream",
     "text": [
      "la55.dat\n",
      "[-0.00021517999999999998 -0.0057355999999999996 0.018000000000000002 ...\n",
      " 0.04463 0.044263000000000004 0.019961]\n"
     ]
    },
    {
     "data": {
      "image/png": "[encoded data removed]",
      "text/plain": [
       "<Figure size 432x288 with 1 Axes>"
      ]
     },
     "metadata": {
      "needs_background": "light"
     },
     "output_type": "display_data"
    },
    {
     "name": "stdout",
     "output_type": "stream",
     "text": [
      "la56.dat\n",
      "[-0.0008376599999999999 0.0032708999999999998 0.019704 ... 0.048518 0.1152\n",
      " -0.0086838]\n"
     ]
    },
    {
     "data": {
      "image/png": "[encoded data removed]",
      "text/plain": [
       "<Figure size 432x288 with 1 Axes>"
      ]
     },
     "metadata": {
      "needs_background": "light"
     },
     "output_type": "display_data"
    },
    {
     "name": "stdout",
     "output_type": "stream",
     "text": [
      "la57.dat\n",
      "[0.013127999999999999 0.018644 -0.08732799999999999 ... 0.0 0.0 0.0]\n"
     ]
    },
    {
     "data": {
      "image/png": "[encoded data removed]",
      "text/plain": [
       "<Figure size 432x288 with 1 Axes>"
      ]
     },
     "metadata": {
      "needs_background": "light"
     },
     "output_type": "display_data"
    },
    {
     "name": "stdout",
     "output_type": "stream",
     "text": [
      "la58.dat\n",
      "[0.14169 0.099291 0.028331 ... 0.0 0.0 0.0]\n"
     ]
    },
    {
     "data": {
      "image/png": "[encoded data removed]",
      "text/plain": [
       "<Figure size 432x288 with 1 Axes>"
      ]
     },
     "metadata": {
      "needs_background": "light"
     },
     "output_type": "display_data"
    },
    {
     "name": "stdout",
     "output_type": "stream",
     "text": [
      "la59.dat\n",
      "[-0.097903 -0.08815300000000001 -0.037705999999999996 ... 0.0 0.0 0.0]\n"
     ]
    },
    {
     "data": {
      "image/png": "[encoded data removed]",
      "text/plain": [
       "<Figure size 432x288 with 1 Axes>"
      ]
     },
     "metadata": {
      "needs_background": "light"
     },
     "output_type": "display_data"
    },
    {
     "name": "stdout",
     "output_type": "stream",
     "text": [
      "la60.dat\n",
      "[-0.12971 -0.068386 -0.051687000000000004 ... 0.0 0.0 0.0]\n"
     ]
    },
    {
     "data": {
      "image/png": "[encoded data removed]",
      "text/plain": [
       "<Figure size 432x288 with 1 Axes>"
      ]
     },
     "metadata": {
      "needs_background": "light"
     },
     "output_type": "display_data"
    }
   ],
   "source": [
    "# Ground motion input\n",
    "for ijk in range(49,len(GMdt)+1):\n",
    "    if ijk < 10:\n",
    "        filename=\"la0\" + str(ijk) + \".dat\"\n",
    "        print(filename)\n",
    "    else:\n",
    "        filename=\"la\" + str(ijk) + \".dat\"\n",
    "        print(filename)\n",
    "     \n",
    "    data = np.loadtxt(filename, unpack = True)\n",
    "\n",
    "    xacc=np.full([len(data)*len(data[0])],None)\n",
    "    for x in range(len(data[0])):\n",
    "        for y in range(len(data)):\n",
    "            if x == 0:\n",
    "                xacc[y] = data[y, x]\n",
    "            else:\n",
    "                xacc[y+(x*6)] = data[y, x]\n",
    "    xacc = xacc/100\n",
    "    print(xacc)\n",
    "    # \n",
    "    # Time series for ground motion\n",
    "    dt = GMdt[ijk-1]\n",
    "    tend = dt*len(xacc)\n",
    "    tim = np.arange(0, tend, dt)\n",
    "    plt.figure()\n",
    "    plt.plot(tim,xacc)\n",
    "    plt.show(block=False)\n",
    "    for tkk in range(0,len(tim)-1):\n",
    "        time_current = tim[tkk]\n",
    "        h = xacc[tkk] \n",
    "        xn = np.array([xr[tkk,:,ijk-1]]).T\n",
    "        xn1 = (Ad @ xn) + (BKt @ xn) + (Ed * h)\n",
    "        #     print(xn1)\n",
    "        xr[tkk+1,:,ijk-1] = xn1.T\n",
    "        En2 = 0.5*((xn1.T @ Qp)@ (xn1))\n",
    "        Et[tkk+1,:,ijk-1] = En2\n",
    "        Fn2 = Kpt @ xn1\n",
    "        Ft[tkk+1,:,ijk-1] = Fn2.T\n",
    "        yn1 = (Cd1-BKt) @ xn1\n",
    "        yr[tkk+1,:,ijk-1] = yn1.T\n",
    "        del xn, xn1, En2, Fn2, yn1\n",
    "        # print(sinewave)\n",
    "        \n",
    "        y = (Cd @ np.array([xu[tkk,:,ijk-1]]).T)\n",
    "        yu[tkk,:,ijk-1] = y.T\n",
    "        x = (Ad @ np.array([xu[tkk,:,ijk-1]]).T) + (Ed * h)\n",
    "        xu[tkk+1,:,ijk-1] = x.T\n",
    "        En1 = 0.5*((x.T @ Qp)@ (x))\n",
    "        Euct[tkk+1,:,ijk-1] = En1\n",
    "        del y, x, En1\n",
    "        \n",
    "        y1 = (Cd @ np.array([xo[tkk,:,ijk-1]]).T) + (Dd @ ((-1*Kpo) @ np.array([xo[tkk,:,ijk-1]]).T))\n",
    "        yo[tkk,:,ijk-1] = y1.T\n",
    "        x1 = (Ad @ np.array([xo[tkk,:,ijk-1]]).T) + (Bd @ ((-1*Kpo) @ np.array([xo[tkk,:,ijk-1]]).T)) + (Ed * h)\n",
    "        xo[tkk+1,:,ijk-1] = x1.T\n",
    "        En0 = 0.5*((x1.T @ Qp)@ (x1))\n",
    "        Eot[tkk+1,:,ijk-1] = En0\n",
    "        Fn1 = Kpo @ x1\n",
    "        Fot[tkk+1,:,ijk-1] = Fn1.T\n",
    "        del y1, x1, En0, Fn1 \n",
    "        \n",
    "        ## PI controller\n",
    "        xn = np.array([xri[tkk,:,ijk-1]]).T\n",
    "        xn1 = (FI @ xn) + (BKti @ xn) + (BIrd * h)\n",
    "#         print(xn1)\n",
    "        xri[tkk+1,:,ijk-1] = xn1.T\n",
    "        En2 = 0.5*((xn1.T @ Qpi)@ (xn1))\n",
    "        Eti[tkk+1,:,ijk-1] = En2\n",
    "        Fn2 = Kpti @ xn1\n",
    "        Fti[tkk+1,:,ijk-1] = Fn2.T\n",
    "        yn1 = (Cd1i-BKti) @ xn1\n",
    "        yri[tkk+1,:,ijk-1] = yn1.T\n",
    "        del xn, xn1, En2, Fn2, yn1\n",
    "        \n",
    "        y1 = (Cdi @ np.array([xoi[tkk,:,ijk-1]]).T) + (Ddi @ ((-1*Kpoi) @ np.array([xoi[tkk,:,ijk-1]]).T))\n",
    "        yoi[tkk,:,ijk-1] = y1.T\n",
    "        x1 = (FI @ np.array([xoi[tkk,:,ijk-1]]).T) + (gI @ ((-1*Kpoi) @ np.array([xoi[tkk,:,ijk-1]]).T)) + (BIrd * h)\n",
    "        xoi[tkk+1,:,ijk-1] = x1.T\n",
    "#         print(Qpi)\n",
    "        En0 = 0.5*((x1.T @ Qpi)@ (x1))\n",
    "        Eoti[tkk+1,:,ijk-1] = En0\n",
    "        Fn1 = Kpoi @ x1\n",
    "        Foti[tkk+1,:,ijk-1] = Fn1.T\n",
    "        del y1, x1, En0, Fn1 \n",
    "        \n",
    "# Performance indices   \n",
    "    for i in range(0,n):\n",
    "        J1r[ijk-1, i] = max(xr[:,i,ijk-1], key=abs)/max(xu[:,i,ijk-1], key=abs)\n",
    "        J1o[ijk-1, i] = max(xo[:,i,ijk-1], key=abs)/max(xu[:,i,ijk-1], key=abs)\n",
    "        J2r[ijk-1, i] = max(xr[:,n+i,ijk-1], key=abs)/max(xu[:,n+i,ijk-1], key=abs)\n",
    "        J2o[ijk-1, i] = max(xo[:,n+i,ijk-1], key=abs)/max(xu[:,n+i,ijk-1], key=abs)\n",
    "        J3r[ijk-1, i] = max(yr[:,i,ijk-1], key=abs)/max(yu[:,i,ijk-1], key=abs)\n",
    "        J3o[ijk-1, i] = max(yo[:,i,ijk-1], key=abs)/max(yu[:,i,ijk-1], key=abs)\n",
    "        \n",
    "        J1ri[ijk-1, i] = max(xri[:,i,ijk-1], key=abs)/max(xu[:,i,ijk-1], key=abs)\n",
    "        J1oi[ijk-1, i] = max(xoi[:,i,ijk-1], key=abs)/max(xu[:,i,ijk-1], key=abs)\n",
    "        J2ri[ijk-1, i] = max(xri[:,n+i,ijk-1], key=abs)/max(xu[:,n+i,ijk-1], key=abs)\n",
    "        J2oi[ijk-1, i] = max(xoi[:,n+i,ijk-1], key=abs)/max(xu[:,n+i,ijk-1], key=abs)\n",
    "        J3ri[ijk-1, i] = max(yri[:,i,ijk-1], key=abs)/max(yu[:,i,ijk-1], key=abs)\n",
    "        J3oi[ijk-1, i] = max(yoi[:,i,ijk-1], key=abs)/max(yu[:,i,ijk-1], key=abs)\n",
    "        \n",
    "    J4r[ijk-1, 0] = max(Et[:,:,ijk-1], key=abs)/max(Euct[:,:,ijk-1], key=abs)\n",
    "    J4o[ijk-1, 0] = max(Eot[:,:,ijk-1], key=abs)/max(Euct[:,:,ijk-1], key=abs)\n",
    "    J4r[ijk-1, 0] = max(Et[:,:,ijk-1], key=abs)/max(Euct[:,:,ijk-1], key=abs)\n",
    "    J4o[ijk-1, 0] = max(Eot[:,:,ijk-1], key=abs)/max(Euct[:,:,ijk-1], key=abs)\n",
    "    for i in range(0,r):\n",
    "        J5r[ijk-1, i] = (max(Ft[:,i,ijk-1], key=abs)*(npg*10/no))/(345600*10*8)\n",
    "        J5o[ijk-1, i] = max(Fot[:,i,ijk-1], key=abs)/(345600*10*8)\n",
    "        J5ri[ijk-1, i] = (max(Fti[:,i,ijk-1], key=abs)*(npg*10/no))/(345600*10*8)\n",
    "        J5oi[ijk-1, i] = max(Foti[:,i,ijk-1], key=abs)/(345600*10*8)"
   ]
  },
  {
   "cell_type": "code",
   "execution_count": 27,
   "id": "0520f18e",
   "metadata": {},
   "outputs": [
    {
     "name": "stdout",
     "output_type": "stream",
     "text": [
      "J1 - Proposed P:\n",
      "     Floor1      Floor2      Floor3     Floor4      Floor5       Floor6 \n",
      "     Floor7      Floor8 \n",
      " [[-0.43341059  0.42594212  0.42851954 -0.43131268 -0.42883086 -0.42680042\n",
      "  -0.42436241 -0.42214823]\n",
      " [-0.65980744 -0.64581195 -0.63105419 -0.6201986  -0.62715599 -0.65642908\n",
      "  -0.68571308  0.70177971]\n",
      " [ 0.61672149  0.61138002  0.60536733  0.59851139  0.5939025   0.59798172\n",
      "   0.60943429  0.61749479]\n",
      " [ 0.47953283 -0.48174559 -0.48050716  0.47691859  0.48007109  0.48090156\n",
      "   0.48038349 -0.48156229]\n",
      " [-0.61527222 -0.63309827 -0.65778868 -0.68208151 -0.70284153 -0.71771626\n",
      "  -0.72702364 -0.73135675]\n",
      " [-0.84211992 -0.82215347 -0.80935699 -0.80492398  0.79959564  0.78518237\n",
      "   0.77612498  0.77205839]\n",
      " [ 0.82765276  0.77112064  0.70623212  0.64353993  0.59142197  0.55763424\n",
      "   0.54410298  0.54138084]\n",
      " [ 0.59330406  0.54101445  0.49613909  0.49535095  0.49442999  0.49353455\n",
      "   0.50643735  0.52711721]\n",
      " [-0.49123279  0.50856996  0.54483629  0.59341079  0.64621569  0.69465439\n",
      "   0.73352477  0.75561175]\n",
      " [-0.64059864 -0.64635932 -0.65311767 -0.65198596  0.67977264  0.72158234\n",
      "   0.76150581  0.76294361]\n",
      " [-0.60057603 -0.59476204  0.6010913   0.60426605  0.60317481  0.59694399\n",
      "   0.58681519  0.57905616]\n",
      " [-0.73742787  0.74863401  0.742025   -0.69581626 -0.63428337  0.57950459\n",
      "   0.56258541  0.57227652]\n",
      " [ 0.70799355 -0.69788547  0.67138698  0.64812562  0.61337978  0.57528529\n",
      "  -0.54555712 -0.53956279]\n",
      " [ 0.83528774  0.81697989  0.79790486  0.77857368  0.76270944  0.74406631\n",
      "   0.72547419 -0.71697783]\n",
      " [ 0.88022143  0.8769195   0.87398618  0.87172694  0.8699706   0.86865027\n",
      "   0.86789065  0.86754545]\n",
      " [ 0.77773274  0.77193518  0.76589362  0.76020594  0.75526972  0.75165363\n",
      "   0.74933144  0.74840245]\n",
      " [-0.45376139 -0.45150306 -0.45036965  0.45634957  0.47093525  0.48722749\n",
      "   0.49996735  0.50668183]\n",
      " [-0.69738681 -0.68411948 -0.67167565 -0.65747387 -0.65341212 -0.662509\n",
      "  -0.67783919 -0.68993463]\n",
      " [-0.89883098 -0.82427839  0.80286298  0.79541548  0.78463623  0.78223724\n",
      "  -0.84655688 -0.91011615]\n",
      " [ 0.73429729  0.71374693  0.69425198 -0.69220698 -0.68827972 -0.69631792\n",
      "  -0.70774661 -0.71168604]\n",
      " [-0.87603301  0.79975212  0.77811474  0.75993991  0.74610509 -0.78212198\n",
      "   0.8008948   0.80489051]\n",
      " [ 0.85848816  0.8440456  -0.77457985 -0.68372956  0.63879146  0.63839196\n",
      "   0.64148383  0.65822401]\n",
      " [-0.80856009  0.8176529   0.79790032  0.77747792  0.76026211  0.74946149\n",
      "   0.74394406  0.74162713]\n",
      " [ 0.63094296  0.62954611  0.62787976  0.62675169  0.6260394   0.62551285\n",
      "   0.62563297  0.62566758]\n",
      " [ 0.88022074  0.87691865  0.87398528  0.87172582  0.86996946  0.8686491\n",
      "   0.86788944  0.86754422]\n",
      " [ 0.77773428  0.77193676  0.76589516  0.7602075   0.75527117  0.75165495\n",
      "   0.74933277  0.74840367]\n",
      " [-0.45376095 -0.45150246 -0.45036896  0.45634806  0.47093405  0.48722666\n",
      "   0.49996652  0.50668108]\n",
      " [-0.69738769 -0.68411982 -0.67167579 -0.65747403 -0.6534124  -0.66250942\n",
      "  -0.67783968 -0.68993509]\n",
      " [ 0.75169097  0.72949334 -0.70230026 -0.71065644 -0.71683284 -0.70034097\n",
      "  -0.68280432 -0.67573704]\n",
      " [ 0.54807567  0.52982366 -0.52365662  0.53415476  0.56062476 -0.57299727\n",
      "  -0.57281654 -0.57158803]\n",
      " [ 0.72276951  0.71862404 -0.68346007 -0.64266422 -0.60212949 -0.57019317\n",
      "  -0.55304611 -0.54830081]\n",
      " [-0.60260389 -0.61849047 -0.62741863 -0.62610096 -0.61747342 -0.60738121\n",
      "  -0.59885488 -0.59453685]\n",
      " [ 0.55023336  0.54017038  0.52327516  0.50834242 -0.49867136 -0.49443756\n",
      "  -0.49024768 -0.48757315]\n",
      " [-0.72016022 -0.7013793  -0.68960977  0.66287866  0.64185846  0.62675316\n",
      "   0.61751829  0.61307452]\n",
      " [ 0.78960661  0.78616823  0.78191047  0.77649587  0.77091881  0.76505779\n",
      "  -0.76208306 -0.76734842]\n",
      " [ 0.81018753  0.80672504  0.80325892  0.79989389  0.79662298  0.79313946\n",
      "   0.79055009  0.78921567]\n",
      " [ 0.63840761 -0.64183445 -0.64727462 -0.65019645 -0.64857733 -0.64594078\n",
      "  -0.64720715 -0.65070244]\n",
      " [ 0.66394963  0.68184991  0.70522136  0.73035119  0.75216108  0.76681258\n",
      "   0.774746    0.77842278]\n",
      " [ 0.72136365  0.70589444  0.68816055  0.66933747 -0.69697534 -0.74522742\n",
      "  -0.79508664  0.80583475]\n",
      " [-0.72182992 -0.72931248 -0.74046908  0.74842455  0.74705567  0.74645528\n",
      "   0.74535924  0.7449981 ]\n",
      " [-0.64881666 -0.64085442 -0.63684981 -0.63273016 -0.62251552  0.60056445\n",
      "   0.62281042  0.63596437]\n",
      " [-0.47081906 -0.46463311 -0.45904214 -0.45484494  0.45186442  0.44874395\n",
      "   0.44804268  0.44796315]\n",
      " [-0.61526991 -0.63310006 -0.65779011 -0.68208289 -0.70284299 -0.71771813\n",
      "  -0.72702557 -0.73135875]\n",
      " [-0.84211627 -0.82214998 -0.80935312 -0.80491974  0.79959412  0.78518115\n",
      "   0.77612361  0.77205691]\n",
      " [ 0.62012372  0.62524194  0.62982577 -0.63148884  0.61431619  0.59189293\n",
      "   0.57571849  0.56776786]\n",
      " [-0.62902073 -0.62013504 -0.61302157 -0.61530228  0.61327349  0.61442738\n",
      "   0.61598489  0.61717927]\n",
      " [ 0.          0.          0.          0.          0.          0.\n",
      "   0.          0.        ]\n",
      " [ 0.          0.          0.          0.          0.          0.\n",
      "   0.          0.        ]\n",
      " [ 0.55527816 -0.5503176  -0.53649274 -0.51515372 -0.48616188 -0.46925746\n",
      "  -0.49448707 -0.50881636]\n",
      " [-0.58882752 -0.59095918 -0.58506125 -0.57334928 -0.55767576 -0.54186255\n",
      "   0.54247146  0.54390356]\n",
      " [-0.57195949 -0.55576649 -0.53760052 -0.52208139 -0.52462184 -0.54753906\n",
      "   0.56794147  0.57351334]\n",
      " [-0.86237076 -0.88349624 -0.84945601 -0.65242656  0.60819733  0.60786851\n",
      "   0.63045961  0.64749969]\n",
      " [-0.75241009 -0.66976507 -0.58243731  0.52258228  0.52684713  0.53697534\n",
      "   0.54701481  0.55292507]\n",
      " [ 0.75081919  0.72197215 -0.71587149 -0.70846603 -0.69657166 -0.70151303\n",
      "  -0.7202998  -0.73714435]\n",
      " [ 0.85251801  0.78537562  0.68514967  0.61023446 -0.58505736 -0.60490071\n",
      "  -0.64510865 -0.6697374 ]\n",
      " [ 0.53492911  0.51585067  0.49197859  0.46686082  0.48926381  0.51005469\n",
      "   0.52508467  0.52819673]\n",
      " [ 0.48582845  0.48988177  0.49227566  0.49357765  0.49451626  0.49457411\n",
      "   0.49478762  0.49481314]\n",
      " [-0.51334852  0.50961327  0.51258729  0.52372955  0.53538548  0.54794389\n",
      "   0.56110731 -0.56922328]\n",
      " [ 1.00437955  1.01097488  0.98769152 -1.0779761   1.18154295  1.12062257\n",
      "   1.09121182 -0.97020612]\n",
      " [ 0.86024291  0.85488028 -0.89619583 -0.98653446  1.01856321  0.99365457\n",
      "   0.97842385  0.97067361]]\n"
     ]
    }
   ],
   "source": [
    "Floor = [1, 2, 3, 4, 5, 6, 7, 8]\n",
    "print(\"J1 - Proposed P:\\n\", \"    Floor1      Floor2      Floor3     Floor4      Floor5       Floor6 \\n     Floor7      Floor8 \\n\", J1r)\n",
    "PJ1 = np.zeros([len(GMdt), 1]) \n",
    "for ijk in range(0,len(GMdt)):\n",
    "    PJ1[ijk,:] = max(np.absolute(J1r[ijk,:]))\n",
    "PJ1[46:56] = PJ1[48:58]"
   ]
  },
  {
   "cell_type": "code",
   "execution_count": 28,
   "id": "bfb829d2",
   "metadata": {},
   "outputs": [
    {
     "name": "stdout",
     "output_type": "stream",
     "text": [
      "0.7075018570803203\n"
     ]
    },
    {
     "data": {
      "text/plain": [
       "(0.6456892874869263, 0.7693144266737143)"
      ]
     },
     "execution_count": 28,
     "metadata": {},
     "output_type": "execute_result"
    }
   ],
   "source": [
    "import numpy as np\n",
    "import scipy.stats as st\n",
    "  \n",
    "# define sample data\n",
    "gfg_data10 = PJ1[0:20,0]\n",
    "gfg_data2 = PJ1[20:40,0]\n",
    "gfg_data50 = PJ1[40:57,0]  \n",
    "# create 95% confidence interval (hazard level - 10% in 50 years)\n",
    "print(np.mean(gfg_data10))\n",
    "st.t.interval(alpha=0.95, df=len(gfg_data10)-1,\n",
    "              loc=np.mean(gfg_data10),\n",
    "              scale=st.sem(gfg_data10))"
   ]
  },
  {
   "cell_type": "code",
   "execution_count": 21,
   "id": "45ced92c",
   "metadata": {},
   "outputs": [
    {
     "name": "stdout",
     "output_type": "stream",
     "text": [
      "0.7286794704784417\n"
     ]
    },
    {
     "data": {
      "text/plain": [
       "(0.677875286279952, 0.7794836546769315)"
      ]
     },
     "execution_count": 21,
     "metadata": {},
     "output_type": "execute_result"
    }
   ],
   "source": [
    "# create 95% confidence interval (hazard level - 2% in 50 years)\n",
    "print(np.mean(gfg_data2))\n",
    "st.t.interval(alpha=0.95, df=len(gfg_data2)-1,\n",
    "              loc=np.mean(gfg_data2),\n",
    "              scale=st.sem(gfg_data2))"
   ]
  },
  {
   "cell_type": "code",
   "execution_count": 22,
   "id": "b2b3fa2f",
   "metadata": {},
   "outputs": [
    {
     "name": "stdout",
     "output_type": "stream",
     "text": [
      "0.6474348932491827\n"
     ]
    },
    {
     "data": {
      "text/plain": [
       "(0.5795729885507058, 0.7152967979476595)"
      ]
     },
     "execution_count": 22,
     "metadata": {},
     "output_type": "execute_result"
    }
   ],
   "source": [
    "# create 95% confidence interval (hazard level - 50% in 50 years)\n",
    "print(np.mean(gfg_data50))\n",
    "st.t.interval(alpha=0.95, df=len(gfg_data50)-1,\n",
    "              loc=np.mean(gfg_data50),\n",
    "              scale=st.sem(gfg_data50))"
   ]
  },
  {
   "cell_type": "code",
   "execution_count": 408,
   "id": "025a50b8",
   "metadata": {},
   "outputs": [
    {
     "name": "stdout",
     "output_type": "stream",
     "text": [
      "J1 - Proposed PI:\n",
      "     Floor1      Floor2      Floor3     Floor4      Floor5       Floor6 \n",
      "     Floor7      Floor8 \n",
      " [[ 0.31765161  0.31276199  0.31395605 -0.31904229 -0.32132441 -0.32247709\n",
      "  -0.32224408 -0.32127889]\n",
      " [ 0.46919632  0.47196784  0.46360459  0.44695516  0.42688238  0.43328528\n",
      "   0.46920389 -0.48803894]\n",
      " [-0.41233948 -0.39650597 -0.38246458 -0.36990919 -0.35957866 -0.35116522\n",
      "  -0.34517503 -0.34197424]\n",
      " [ 0.48701847  0.48452129  0.49116287  0.49571486  0.49310133  0.48571686\n",
      "   0.47723248  0.47182275]\n",
      " [ 0.61948097  0.61750919  0.61492354  0.61172663  0.60802687  0.60412173\n",
      "   0.60085712  0.59903573]\n",
      " [ 0.64316396  0.64888392  0.64558061  0.63783068 -0.62310922 -0.60194035\n",
      "  -0.59108916 -0.58800819]\n",
      " [-0.62678478  0.58631521  0.54008381 -0.49975792 -0.50403154 -0.52369164\n",
      "  -0.54506447 -0.55810464]\n",
      " [ 0.70967332  0.67235311  0.63397111  0.59702632  0.56980697  0.55299204\n",
      "   0.55988001  0.56784451]\n",
      " [ 1.15626099  1.15568189  1.14595909  1.13306906  1.12502699  1.1210475\n",
      "  -1.13074685 -1.14515485]\n",
      " [ 1.55799752  1.53033316  1.50826396  1.49599028  1.50354914  1.52214117\n",
      "   1.54287153  1.51094661]\n",
      " [-0.56248184 -0.52810714 -0.50938519  0.51181232  0.53414804  0.55401893\n",
      "   0.56732778  0.57260771]\n",
      " [ 0.85561747  0.86450006  0.85050936 -0.79220315 -0.70853193  0.63786541\n",
      "   0.62492851  0.61830608]\n",
      " [ 1.07421604  1.05084172  1.03283001  1.01213425  0.99086309  0.97394286\n",
      "   0.96389977  0.96047168]\n",
      " [-1.00473606 -1.0039986  -0.99424675 -0.97710248 -0.96138955 -0.94921261\n",
      "   0.95962932  1.00127544]\n",
      " [ 0.53144654  0.52898488  0.53030622  0.53452778  0.53973317  0.54491553\n",
      "   0.54902501  0.55107288]\n",
      " [-0.506876   -0.52439882 -0.5389035  -0.5493585  -0.55779165 -0.5631394\n",
      "  -0.56630921 -0.56801373]\n",
      " [-0.42472949 -0.41736699 -0.41275871 -0.40411051 -0.39070951 -0.37708916\n",
      "   0.37779237  0.38586327]\n",
      " [ 0.68643607  0.6684453   0.66240713  0.67167584  0.6733038   0.66971952\n",
      "   0.66388892  0.66054776]\n",
      " [-1.18319124 -1.14550168 -1.08925082 -1.0597084   1.10016515  1.16311478\n",
      "   1.18001236  1.18038577]\n",
      " [-0.74494975 -0.79117348 -0.82576411  0.79037885  0.74602028 -0.73649545\n",
      "  -0.74743358 -0.75364035]\n",
      " [ 1.37564893  1.32194964 -1.30520486 -1.29485908 -1.27720035 -1.24870169\n",
      "   1.20149547  1.16566345]\n",
      " [ 0.94486919  0.93511629 -0.87610876 -0.7941481  -0.70491166  0.67824043\n",
      "   0.76737328  0.8135848 ]\n",
      " [-1.0654905   1.07773436  1.0516529   1.02182624  0.9944029   0.97196589\n",
      "   0.95608859  0.94793646]\n",
      " [ 0.75032207  0.73673363  0.72585038  0.71729201  0.71021763  0.70488238\n",
      "   0.70329665  0.70580378]\n",
      " [ 0.53144244  0.52898075  0.53030224  0.53452402  0.53972958  0.54491203\n",
      "   0.54902166  0.55106956]\n",
      " [-0.50687399 -0.52439677 -0.53890155 -0.54935658 -0.5577898  -0.56313756\n",
      "  -0.56630737 -0.56801181]\n",
      " [-0.42472741 -0.4173652  -0.41275712 -0.40410911 -0.39070828 -0.37708805\n",
      "   0.37779103  0.38586184]\n",
      " [ 0.68643554  0.66844497  0.66240428  0.67167327  0.67330148  0.66971728\n",
      "   0.66388674  0.66054557]\n",
      " [-0.76718841 -0.75557039 -0.72251107 -0.66168161 -0.58947497  0.53382238\n",
      "   0.53373789  0.53339504]\n",
      " [-0.45538902 -0.42760432 -0.39396927  0.39446833  0.41113342 -0.41931042\n",
      "  -0.42033979 -0.42109952]\n",
      " [ 0.61657199  0.60995269 -0.58732062 -0.55779679 -0.52691838 -0.50066694\n",
      "  -0.48425253 -0.47732697]\n",
      " [ 0.75791302  0.7430502   0.72164024  0.69628029 -0.69327487 -0.69253189\n",
      "  -0.69169732 -0.69153967]\n",
      " [-0.56684312 -0.55152927  0.53347806  0.51531576  0.50184514  0.49258012\n",
      "   0.48591791  0.48275088]\n",
      " [-0.74101385 -0.75498978 -0.77470418  0.77285463  0.77007468  0.76736434\n",
      "   0.7644744   0.76180697]\n",
      " [-0.77235557 -0.76448521 -0.7551823  -0.74414653 -0.73562551 -0.72945432\n",
      "  -0.7270576   0.731043  ]\n",
      " [ 0.60289669  0.61428549  0.61780502  0.61736931 -0.64452097 -0.67264913\n",
      "  -0.69263198 -0.70289935]\n",
      " [-0.53470934  0.51776369 -0.5051254  -0.510784   -0.52845779 -0.55195567\n",
      "  -0.57475963 -0.58835244]\n",
      " [ 0.58683355  0.57857797  0.5744054   0.57299526  0.57339887  0.57275549\n",
      "   0.57119186  0.5706854 ]\n",
      " [-0.69443432  0.71078747  0.76729794  0.82762701 -0.86527308 -0.88754856\n",
      "  -0.91007943  0.90109714]\n",
      " [-0.56869376 -0.55231595  0.54120611 -0.54580122 -0.54564683 -0.54575694\n",
      "  -0.5457494  -0.54566522]\n",
      " [ 0.56264646  0.55251536  0.5404649   0.52944033  0.52441063  0.52728907\n",
      "   0.53290135  0.53704823]\n",
      " [-0.39600313  0.38299396 -0.37532168 -0.37189077 -0.3697455  -0.3765537\n",
      "  -0.38151691 -0.38396911]\n",
      " [ 0.61948432  0.6175127   0.61492722  0.61173049  0.60803084  0.6041259\n",
      "   0.60086127  0.59903987]\n",
      " [ 0.64316349  0.64888376  0.6455805   0.63783059 -0.62311183 -0.60194401\n",
      "  -0.59109312 -0.58801235]\n",
      " [-0.76811646 -0.76705144 -0.77072168  0.77220538 -0.75480484  0.73826909\n",
      "   0.75190386  0.75983895]\n",
      " [ 0.70021592  0.69755764  0.69312696  0.68631983  0.66614001  0.65178155\n",
      "   0.64144994  0.63573287]\n",
      " [ 0.          0.          0.          0.          0.          0.\n",
      "   0.          0.        ]\n",
      " [ 0.          0.          0.          0.          0.          0.\n",
      "   0.          0.        ]\n",
      " [ 0.46290944 -0.46122222 -0.45722214 -0.44884221 -0.43581607 -0.41667815\n",
      "   0.4024734   0.40345198]\n",
      " [-0.55320692 -0.52897284 -0.50189461 -0.47584645 -0.45477289  0.4385851\n",
      "   0.45208095  0.46028533]\n",
      " [ 0.41275099  0.39616389  0.36767001  0.33051012  0.31454705 -0.30200582\n",
      "   0.30739441  0.31103676]\n",
      " [-1.05913276 -1.08378597 -1.04293944 -0.81331758 -0.68838057 -0.71880523\n",
      "  -0.74399209 -0.75857645]\n",
      " [ 0.75467284  0.74693012  0.72631318  0.69294435  0.6596053   0.63246618\n",
      "   0.61398611 -0.6270551 ]\n",
      " [-0.7363337   0.737145    0.73410288  0.68430708 -0.65099671 -0.65813752\n",
      "   0.70922355  0.74461701]\n",
      " [-0.91932671 -0.86901722 -0.77866299 -0.75132721  0.76916484  0.82442204\n",
      "   0.86477411  0.8863738 ]\n",
      " [ 0.6429603   0.62766285  0.61292514 -0.62994388 -0.64703386 -0.6556697\n",
      "  -0.6571868  -0.65152413]\n",
      " [ 0.555819    0.5543591   0.54535126  0.53298919  0.52145678  0.51196217\n",
      "   0.50648385  0.5042692 ]\n",
      " [ 0.863985   -0.85758969 -0.85140305  0.85685633  0.87187118  0.88687618\n",
      "   0.89912145 -0.90542439]\n",
      " [-1.25082269 -1.41862015  1.55025901 -1.69887109  1.97126177  1.85878277\n",
      "   1.74671579 -1.52289912]\n",
      " [-1.35386591 -1.36281757 -1.40876178 -1.43325295  1.34672912 -1.29062154\n",
      "  -1.43323137 -1.51154587]]\n"
     ]
    }
   ],
   "source": [
    "Floor = [1, 2, 3, 4, 5, 6, 7, 8]\n",
    "print(\"J1 - Proposed PI:\\n\", \"    Floor1      Floor2      Floor3     Floor4      Floor5       Floor6 \\n     Floor7      Floor8 \\n\", J1ri)\n",
    "PJ1i = np.zeros([len(GMdt), 1]) \n",
    "for ijk in range(0,len(GMdt)):\n",
    "    PJ1i[ijk,:] = max(np.absolute(J1ri[ijk,:]))\n",
    "PJ1i[46:56] = PJ1i[48:58]"
   ]
  },
  {
   "cell_type": "code",
   "execution_count": 411,
   "id": "8aad7845",
   "metadata": {},
   "outputs": [
    {
     "name": "stdout",
     "output_type": "stream",
     "text": [
      "0.7396459623555279\n"
     ]
    },
    {
     "data": {
      "text/plain": [
       "(0.5924114235032931, 0.8868805012077627)"
      ]
     },
     "execution_count": 411,
     "metadata": {},
     "output_type": "execute_result"
    }
   ],
   "source": [
    "# define sample data\n",
    "gfg_data10 = PJ1i[0:20,0]\n",
    "gfg_data2 = PJ1i[20:40,0]\n",
    "gfg_data50 = PJ1i[40:57,0]  \n",
    "# create 95% confidence interval\n",
    "print(np.mean(gfg_data10))\n",
    "st.t.interval(alpha=0.95, df=len(gfg_data10)-1,\n",
    "              loc=np.mean(gfg_data10),\n",
    "              scale=st.sem(gfg_data10))"
   ]
  },
  {
   "cell_type": "code",
   "execution_count": 412,
   "id": "7ae28350",
   "metadata": {},
   "outputs": [
    {
     "name": "stdout",
     "output_type": "stream",
     "text": [
      "0.7223321342227287\n"
     ]
    },
    {
     "data": {
      "text/plain": [
       "(0.6172890409897095, 0.8273752274557479)"
      ]
     },
     "execution_count": 412,
     "metadata": {},
     "output_type": "execute_result"
    }
   ],
   "source": [
    "print(np.mean(gfg_data2))\n",
    "st.t.interval(alpha=0.95, df=len(gfg_data2)-1,\n",
    "              loc=np.mean(gfg_data2),\n",
    "              scale=st.sem(gfg_data2))"
   ]
  },
  {
   "cell_type": "code",
   "execution_count": 413,
   "id": "ff7b4744",
   "metadata": {},
   "outputs": [
    {
     "name": "stdout",
     "output_type": "stream",
     "text": [
      "0.6649975319700664\n"
     ]
    },
    {
     "data": {
      "text/plain": [
       "(0.569582939394606, 0.7604121245455268)"
      ]
     },
     "execution_count": 413,
     "metadata": {},
     "output_type": "execute_result"
    }
   ],
   "source": [
    "print(np.mean(gfg_data50))\n",
    "st.t.interval(alpha=0.95, df=len(gfg_data50)-1,\n",
    "              loc=np.mean(gfg_data50),\n",
    "              scale=st.sem(gfg_data50))"
   ]
  },
  {
   "cell_type": "code",
   "execution_count": 414,
   "id": "a00ddfaa",
   "metadata": {},
   "outputs": [
    {
     "name": "stdout",
     "output_type": "stream",
     "text": [
      "J1 - Optimal P:\n",
      "     Floor1      Floor2      Floor3     Floor4      Floor5       Floor6 \n",
      "     Floor7      Floor8 \n",
      " [[ 0.78035093  0.78366503 -0.79128502  0.79140309  0.78660307  0.78221738\n",
      "   0.78086526  0.78105796]\n",
      " [ 0.88925326  0.89336073  0.89503551  0.89263126  0.89252339 -0.89505066\n",
      "  -0.92774041  0.94488004]\n",
      " [ 0.91011863  0.90938153  0.90899534  0.90800239  0.90766026  0.9074498\n",
      "   0.90734388  0.90789188]\n",
      " [ 0.83467378  0.83279885  0.83116757  0.83046157  0.82971144  0.82984193\n",
      "   0.82981476  0.83002435]\n",
      " [ 0.89102229  0.8938139   0.89443201  0.8929226   0.89108091 -0.90486779\n",
      "  -0.91603525 -0.92141108]\n",
      " [ 0.92005973 -0.92544548 -0.93178483 -0.94402829  0.95722502  0.95339974\n",
      "   0.95133871  0.95038867]\n",
      " [ 0.93617534  0.89578937  0.84368087  0.83550289  0.83168976  0.82760039\n",
      "   0.82449766  0.82303863]\n",
      " [ 0.83242066  0.83778818  0.84039059  0.83972601  0.84026337  0.84015517\n",
      "   0.84039999  0.84052001]\n",
      " [ 0.7791114   0.7818238   0.78276132  0.78133711  0.78109182  0.78024659\n",
      "   0.80257095  0.82232734]\n",
      " [-0.85833219  0.85149654  0.8545604   0.85347219  0.85132419  0.90438172\n",
      "   0.95565596  0.95634864]\n",
      " [-0.89205663 -0.89872367 -0.9054507  -0.90340463 -0.88923712  0.87920991\n",
      "   0.88131028  0.88204122]\n",
      " [ 0.77796874  0.79824944  0.80215737 -0.78575615 -0.78739953  0.79021433\n",
      "   0.7917692   0.79276723]\n",
      " [-0.87909481  0.9071896   0.90683014  0.88633964  0.85677424  0.84376777\n",
      "   0.84495949  0.84556505]\n",
      " [ 0.91778207  0.94900196  0.95664727  0.94954439  0.94926849  0.94534969\n",
      "   0.94454919  0.94421453]\n",
      " [ 0.9966864   0.99776991  0.99830174  0.99836476  0.99885137  0.99912025\n",
      "   0.99939506  0.99934557]\n",
      " [ 0.97605889  0.97319099  0.97187661  0.97084056  0.96980328  0.96900827\n",
      "   0.96840715  0.96793108]\n",
      " [ 0.84857253  0.85109878  0.85146878  0.84996769  0.84827484  0.8465407\n",
      "   0.84602765  0.84587102]\n",
      " [ 0.91015952  0.91455082  0.91636241  0.9159577   0.9162773   0.91600937\n",
      "   0.91633781  0.91667486]\n",
      " [ 0.93957519  0.96107107  0.96553652  0.96673076  0.96228626  0.96331879\n",
      "   0.96867102  0.97007677]\n",
      " [ 0.94563774  0.94412564  0.9407515  -0.90319526  0.90442615  0.90538584\n",
      "   0.91221422  0.91378974]\n",
      " [ 0.90612863  0.93575395  0.9440765   0.94141831  0.9422246  -0.94631015\n",
      "   0.95937257  0.95825202]\n",
      " [ 0.93745884  0.94985088  0.92755881  0.92661851  0.93148616  0.93123956\n",
      "   0.93167723  0.93196751]\n",
      " [-0.9080313   0.91099232  0.89019266  0.89106039  0.89329411  0.89425528\n",
      "   0.89552164  0.89615208]\n",
      " [ 0.91834489  0.92544113  0.92795595  0.9271862   0.92807723  0.92760631\n",
      "   0.92821439  0.92857604]\n",
      " [ 0.99668586  0.99776955  0.99830143  0.9983644   0.99885101  0.99911988\n",
      "   0.99939486  0.99934538]\n",
      " [ 0.97605937  0.97319149  0.97187717  0.97084104  0.9698038   0.96900872\n",
      "   0.96840762  0.96793154]\n",
      " [ 0.84857251  0.85109876  0.85146874  0.84996769  0.84827484  0.84654066\n",
      "   0.8460276   0.84587093]\n",
      " [ 0.91015936  0.9145508   0.91636242  0.91595766  0.91627728  0.91600932\n",
      "   0.91633778  0.91667483]\n",
      " [ 0.89248741  0.91882055  0.92164216  0.90603261  0.90213817  0.88951549\n",
      "   0.89080615  0.89161733]\n",
      " [ 0.86772894  0.87194329  0.87066865  0.86694132  0.86495026 -0.84976529\n",
      "  -0.83173724 -0.82294568]\n",
      " [-0.87400245 -0.90913228  0.90963288  0.90324494  0.90061186  0.89720179\n",
      "   0.89594126  0.89529536]\n",
      " [ 0.92893734  0.92233843  0.9188401   0.91752948  0.91682728  0.91662342\n",
      "   0.91705314  0.91738037]\n",
      " [ 0.88480577  0.88802946 -0.88470642 -0.87413344 -0.86418886  0.86316372\n",
      "   0.86438129  0.86473663]\n",
      " [ 0.9227405   0.92907323  0.93128244 -0.9009889   0.89362705  0.89431873\n",
      "   0.89607589  0.8968867 ]\n",
      " [ 0.94847093  0.95337311  0.95504436  0.95404068  0.95506986  0.9552218\n",
      "   0.95569682  0.95655609]\n",
      " [ 0.97338922  0.97294142  0.97324484  0.97335882  0.97353007  0.97293072\n",
      "   0.97284814  0.97293739]\n",
      " [-0.91930035  0.92598282  0.92649969  0.9277419   0.92894034  0.92955609\n",
      "   0.93000419  0.93012933]\n",
      " [-0.88367663  0.87962233  0.87866536  0.90044875  0.92151823  0.93413141\n",
      "   0.94034266  0.94303429]\n",
      " [ 0.9417729   0.94401557  0.94299111  0.94069188 -0.92628738 -0.92833876\n",
      "  -0.95450652  0.95875851]\n",
      " [ 0.90250222 -0.92214772 -0.94114257  0.95128705  0.95217533  0.95176597\n",
      "   0.95152303  0.95150768]\n",
      " [ 0.91771698  0.9151454   0.91431163  0.91462203  0.91296329  0.91396779\n",
      "   0.91440435  0.91480018]\n",
      " [ 0.8126761  -0.81775956 -0.8242336  -0.82927578  0.83515038  0.83523892\n",
      "   0.83608358  0.83666618]\n",
      " [ 0.89102192  0.89381366  0.89443179  0.8929224   0.89108081 -0.90487096\n",
      "  -0.91603853 -0.92141443]\n",
      " [ 0.92005914 -0.9254442  -0.93178267 -0.94402536  0.95722483  0.95339965\n",
      "   0.95133861  0.95038856]\n",
      " [ 0.90578423  0.91564812  0.92054143 -0.92133099  0.89962686  0.87566535\n",
      "   0.86218178  0.85694767]\n",
      " [ 0.92571549  0.929856    0.91879919  0.90293398 -0.8734168  -0.85089585\n",
      "  -0.84108399  0.83965001]\n",
      " [ 0.          0.          0.          0.          0.          0.\n",
      "   0.          0.        ]\n",
      " [ 0.          0.          0.          0.          0.          0.\n",
      "   0.          0.        ]\n",
      " [ 0.89668372 -0.8989189  -0.8910978  -0.87586179  0.85973698  0.8616918\n",
      "   0.863794    0.86507237]\n",
      " [-0.86988942 -0.88188236 -0.88240223 -0.87477204  0.87353051  0.87360733\n",
      "   0.87385982  0.8739206 ]\n",
      " [ 0.87624452  0.87084336  0.86890365  0.8698525   0.87102458 -0.89127384\n",
      "   0.9084671   0.90907637]\n",
      " [ 0.93633801  0.96543686  0.94076208  0.85052791  0.86136876  0.86800761\n",
      "   0.87244457  0.87461767]\n",
      " [ 0.84450102  0.85147216  0.85259097  0.85096925  0.85210665  0.85455017\n",
      "   0.85761021  0.85937741]\n",
      " [ 0.92324691  0.94670219  0.95255784  0.9404925   0.9374385   0.93224143\n",
      "   0.93046927  0.92952551]\n",
      " [ 0.92887599  0.90541362  0.8382243   0.77672015  0.77957009  0.78083738\n",
      "   0.78217711  0.78276926]\n",
      " [ 0.82627784  0.8376949   0.83530402  0.82322954  0.81648396  0.83804165\n",
      "   0.8560952   0.85817274]\n",
      " [ 0.88268561  0.88212489  0.88339372  0.8833051   0.88421859  0.88421915\n",
      "   0.8846223   0.88496387]\n",
      " [ 0.76514264 -0.77150058 -0.77776335 -0.78237552 -0.78672473 -0.78862907\n",
      "  -0.78998452  0.7902404 ]\n",
      " [ 0.90425715  0.9572026  -0.93888734  0.96187809  1.03581669  1.01878355\n",
      "   1.01475236  0.96984045]\n",
      " [ 0.94974365  0.94902516  0.94909385  0.9542772   1.00557991  0.99726422\n",
      "   0.99660144  0.99683283]]\n"
     ]
    }
   ],
   "source": [
    "print(\"J1 - Optimal P:\\n\", \"    Floor1      Floor2      Floor3     Floor4      Floor5       Floor6 \\n     Floor7      Floor8 \\n\", J1o)\n",
    "PJ1o = np.zeros([len(GMdt), 1]) \n",
    "for ijk in range(0,len(GMdt)):\n",
    "    PJ1o[ijk,:] = max(np.absolute(J1o[ijk,:]))\n",
    "PJ1o[46:56] = PJ1o[48:58]"
   ]
  },
  {
   "cell_type": "code",
   "execution_count": 416,
   "id": "5098bfe0",
   "metadata": {},
   "outputs": [
    {
     "name": "stdout",
     "output_type": "stream",
     "text": [
      "0.90729200109452\n"
     ]
    },
    {
     "data": {
      "text/plain": [
       "(0.8782710299781633, 0.9363129722108767)"
      ]
     },
     "execution_count": 416,
     "metadata": {},
     "output_type": "execute_result"
    }
   ],
   "source": [
    "# define sample data\n",
    "gfg_data10 = PJ1o[0:20,0]\n",
    "gfg_data2 = PJ1o[20:40,0]\n",
    "gfg_data50 = PJ1o[40:57,0]  \n",
    "# create 95% confidence interval\n",
    "print(np.mean(gfg_data10))\n",
    "st.t.interval(alpha=0.95, df=len(gfg_data10)-1,\n",
    "              loc=np.mean(gfg_data10),\n",
    "              scale=st.sem(gfg_data10))"
   ]
  },
  {
   "cell_type": "code",
   "execution_count": 417,
   "id": "e939717c",
   "metadata": {},
   "outputs": [
    {
     "name": "stdout",
     "output_type": "stream",
     "text": [
      "0.9329020407773623\n"
     ]
    },
    {
     "data": {
      "text/plain": [
       "(0.9161159463114031, 0.9496881352433214)"
      ]
     },
     "execution_count": 417,
     "metadata": {},
     "output_type": "execute_result"
    }
   ],
   "source": [
    "print(np.mean(gfg_data2))\n",
    "st.t.interval(alpha=0.95, df=len(gfg_data2)-1,\n",
    "              loc=np.mean(gfg_data2),\n",
    "              scale=st.sem(gfg_data2))"
   ]
  },
  {
   "cell_type": "code",
   "execution_count": 418,
   "id": "cdcc065d",
   "metadata": {},
   "outputs": [
    {
     "name": "stdout",
     "output_type": "stream",
     "text": [
      "0.8999526998166828\n"
     ]
    },
    {
     "data": {
      "text/plain": [
       "(0.8764000040023661, 0.9235053956309995)"
      ]
     },
     "execution_count": 418,
     "metadata": {},
     "output_type": "execute_result"
    }
   ],
   "source": [
    "print(np.mean(gfg_data50))\n",
    "st.t.interval(alpha=0.95, df=len(gfg_data50)-1,\n",
    "              loc=np.mean(gfg_data50),\n",
    "              scale=st.sem(gfg_data50))"
   ]
  },
  {
   "cell_type": "code",
   "execution_count": 420,
   "id": "ca7fbaad",
   "metadata": {},
   "outputs": [
    {
     "name": "stdout",
     "output_type": "stream",
     "text": [
      "J1 - Optimal PI:\n",
      "     Floor1      Floor2      Floor3     Floor4      Floor5       Floor6 \n",
      "     Floor7      Floor8 \n",
      " [[ 0.70194745  0.70920254 -0.72241369  0.6988427   0.68639064  0.66652293\n",
      "   0.65621265  0.65146687]\n",
      " [ 0.83346749  0.84548507  0.8493969   0.83934007  0.83451482  0.82405813\n",
      "  -0.85326481  0.87101896]\n",
      " [ 0.81444526  0.83909277  0.84588063  0.83450131  0.83773324  0.83451445\n",
      "   0.84185445  0.84797544]\n",
      " [-0.71959917 -0.72698472 -0.73532623 -0.73982263 -0.74396055 -0.7459105\n",
      "  -0.74849122 -0.74996189]\n",
      " [ 0.86243361  0.84473455 -0.84093704 -0.86881966 -0.8899033  -0.90482261\n",
      "  -0.91318241 -0.91654782]\n",
      " [ 0.97867938  0.93097108  0.91253365  0.92747968 -0.91549322 -0.91063679\n",
      "  -0.91124887 -0.91558113]\n",
      " [ 0.9046911   0.88961447  0.84024497  0.76521098  0.75912788  0.75403853\n",
      "   0.75239385  0.75189363]\n",
      " [ 0.73350716  0.75646519  0.76299891  0.75540944  0.75752372  0.75463355\n",
      "   0.75541584  0.75576391]\n",
      " [ 0.66079136  0.6743738   0.67710465  0.67006788  0.70728015  0.75231833\n",
      "   0.79304304  0.81625491]\n",
      " [ 0.78931349  0.8086188   0.81724549  0.82408378  0.87579931  0.93685754\n",
      "   0.98258869  0.98019626]\n",
      " [ 0.80039159 -0.82850901 -0.84226555 -0.82662671 -0.81580106  0.81712495\n",
      "   0.82941167  0.83554398]\n",
      " [ 0.76998396  0.83549248  0.84414471 -0.78588678 -0.7326371   0.6828008\n",
      "   0.68880496  0.69152161]\n",
      " [-0.84823389  0.89354257  0.89475426  0.86442585  0.83146753  0.78944663\n",
      "  -0.76647176 -0.76600515]\n",
      " [ 0.87961176  0.96275396  0.97960073  0.95143397  0.94632274  0.93228426\n",
      "   0.92496516  0.92206075]\n",
      " [ 0.91182103  0.94956545  0.96239197  0.94998498  0.95698137  0.95238412\n",
      "   0.95608547  0.95768503]\n",
      " [ 0.91351537  0.92685902  0.93155265  0.92941459  0.93329062  0.93253669\n",
      "   0.93472857  0.93568273]\n",
      " [ 0.73540709  0.75308788  0.75729195  0.74964446  0.75102548 -0.7524185\n",
      "  -0.75847872 -0.76093335]\n",
      " [ 0.85391893  0.87033759  0.8753733   0.86687856  0.86887118  0.86499507\n",
      "   0.86647471  0.86708502]\n",
      " [ 0.88710296  0.93479348  0.94759508  0.94169798  0.92533042  0.92072648\n",
      "   0.95556296  0.96315802]\n",
      " [ 0.86096819  0.88029524  0.87896862 -0.85969455 -0.85064277  0.86767282\n",
      "   0.88629343  0.89378085]\n",
      " [ 0.90900551  0.96807735  0.97551114  0.95396966  0.94363634  0.93704605\n",
      "  -0.92512528  0.92037893]\n",
      " [ 0.92211528  0.95372751  0.92839018  0.90574462  0.90220117  0.89657142\n",
      "   0.89718354  0.89852695]\n",
      " [-0.85846138  0.88804506  0.87372883  0.84131327  0.84452769  0.84492495\n",
      "   0.84630041  0.84692589]\n",
      " [ 0.80135907  0.85322303  0.86767724  0.85016161  0.85538933  0.84932859\n",
      "   0.85180464  0.85299654]\n",
      " [ 0.91182026  0.94956481  0.96239135  0.94998412  0.95698048  0.95238318\n",
      "   0.95608468  0.95768423]\n",
      " [ 0.91351591  0.92685965  0.93155323  0.92941512  0.93329112  0.93253711\n",
      "   0.93472904  0.93568321]\n",
      " [ 0.73540699  0.7530877   0.7572917   0.7496443   0.75102536 -0.75241759\n",
      "  -0.75847795 -0.76093238]\n",
      " [ 0.85391923  0.87033796  0.87537345  0.86687869  0.8688713   0.86499512\n",
      "   0.86647445  0.86708473]\n",
      " [ 0.90423794  0.9508622   0.95603249  0.90217486  0.87828437  0.84927291\n",
      "   0.83804773  0.83873992]\n",
      " [ 0.81094884  0.81657663  0.81392643  0.80081005  0.79558031 -0.77234079\n",
      "   0.77515416  0.7757114 ]\n",
      " [-0.81737605 -0.87311658  0.87429795  0.85413395  0.84827406  0.83962012\n",
      "   0.83731827  0.83632274]\n",
      " [ 0.83926885  0.84619429  0.85202753  0.85249982  0.85685084  0.85687542\n",
      "   0.85922773  0.8603961 ]\n",
      " [ 0.78749294  0.81109724 -0.81582279  0.80239263  0.80257851  0.79863628\n",
      "   0.79802355  0.79759645]\n",
      " [ 0.86025421  0.88266809  0.8876346  -0.84849334  0.84148691  0.83576547\n",
      "   0.83318513  0.83098039]\n",
      " [-0.7612269   0.84865309  0.87716845  0.84094666  0.85245395  0.83502128\n",
      "   0.83726686  0.83774583]\n",
      " [ 0.92434736  0.93827144  0.94348536  0.9393519   0.94170077  0.93985552\n",
      "   0.94200193  0.94324019]\n",
      " [-0.85250573  0.86510765  0.88090666  0.87905522  0.88051812  0.88017742\n",
      "   0.88153101  0.88291013]\n",
      " [-0.81901759 -0.82078758  0.83566199  0.84638175  0.87605255  0.88478461\n",
      "   0.89536488  0.90020361]\n",
      " [ 0.85155623  0.87923888  0.88446521  0.86346676 -0.86896949 -0.9050195\n",
      "  -0.95403958  0.96325294]\n",
      " [ 0.85811069 -0.87473984 -0.90566542  0.89854277  0.90467747  0.89785114\n",
      "   0.89998995  0.90093368]\n",
      " [ 0.85001533  0.85554766  0.85522846  0.84730014  0.85001795  0.86125554\n",
      "   0.87666676  0.88451953]\n",
      " [ 0.73093677 -0.74951156 -0.75864551 -0.750026    0.75669521  0.7531489\n",
      "   0.75544158  0.75690184]\n",
      " [ 0.86243239  0.84473398 -0.8409396  -0.86882225 -0.88990593 -0.90482568\n",
      "  -0.91318564 -0.91655111]\n",
      " [ 0.97867694  0.93096961  0.91253218  0.92747797 -0.91549572 -0.91064015\n",
      "  -0.91125226 -0.91558457]\n",
      " [ 0.79563023  0.83843209  0.85043838 -0.8371021   0.81884874  0.79308405\n",
      "   0.78497414  0.7831036 ]\n",
      " [ 0.83273854  0.85823009  0.85297385  0.8225048  -0.79542072  0.77804796\n",
      "   0.77667813  0.77917326]\n",
      " [ 0.          0.          0.          0.          0.          0.\n",
      "   0.          0.        ]\n",
      " [ 0.          0.          0.          0.          0.          0.\n",
      "   0.          0.        ]\n",
      " [ 0.77834771 -0.80744088 -0.80740221 -0.7804899   0.7798873   0.78951259\n",
      "   0.80058897  0.80618989]\n",
      " [-0.78879369 -0.82168006 -0.82712549 -0.80772222 -0.79552564  0.78453883\n",
      "   0.78501955  0.78539571]\n",
      " [ 0.76971025  0.76773893 -0.78161414  0.79377989  0.80483303 -0.82216995\n",
      "   0.84236682  0.84469643]\n",
      " [ 0.75175813  0.88552782 -0.95946663  0.77950049  0.78965578  0.79456096\n",
      "   0.80015843  0.80299505]\n",
      " [ 0.76738871  0.7928811   0.7965406   0.78511025  0.78896673  0.79126231\n",
      "   0.79975627  0.80555625]\n",
      " [ 0.84744054  0.92214038  0.93735457  0.8853687   0.87537212  0.86194778\n",
      "   0.85506295  0.84923187]\n",
      " [ 0.86064478  0.89107815  0.82670241  0.73360993  0.69969341  0.69552598\n",
      "   0.69669468 -0.71071465]\n",
      " [-0.76353654  0.79075144  0.79223265  0.7548658   0.7482252   0.77190356\n",
      "   0.79106311  0.79391199]\n",
      " [ 0.79117114  0.80672649  0.81553774  0.81021932  0.81304237  0.81064209\n",
      "   0.81128514  0.81152264]\n",
      " [ 0.65084665 -0.6674407  -0.67747309 -0.67752851 -0.68248046 -0.68209433\n",
      "  -0.68370701  0.68428455]\n",
      " [-0.84078699  0.97726775 -1.03059775 -0.97658094  1.05564513  1.03377423\n",
      "   1.02841502  0.98188738]\n",
      " [ 0.93116833  0.94492218  0.93993704 -0.92938276  0.99859868  0.9793569\n",
      "   0.97732156  0.97534737]]\n"
     ]
    }
   ],
   "source": [
    "print(\"J1 - Optimal PI:\\n\", \"    Floor1      Floor2      Floor3     Floor4      Floor5       Floor6 \\n     Floor7      Floor8 \\n\", J1oi)\n",
    "PJ1oi = np.zeros([len(GMdt), 1]) \n",
    "for ijk in range(0,len(GMdt)):\n",
    "    PJ1oi[ijk,:] = max(np.absolute(J1oi[ijk,:]))\n",
    "PJ1oi[46:56] = PJ1oi[48:58]"
   ]
  },
  {
   "cell_type": "code",
   "execution_count": 422,
   "id": "48d8de38",
   "metadata": {},
   "outputs": [
    {
     "name": "stdout",
     "output_type": "stream",
     "text": [
      "0.8752608124719774\n"
     ]
    },
    {
     "data": {
      "text/plain": [
       "(0.8370877715947023, 0.9134338533492525)"
      ]
     },
     "execution_count": 422,
     "metadata": {},
     "output_type": "execute_result"
    }
   ],
   "source": [
    "# define sample data\n",
    "gfg_data10 = PJ1oi[0:20,0]\n",
    "gfg_data2 = PJ1oi[20:40,0]\n",
    "gfg_data50 = PJ1oi[40:57,0]  \n",
    "# create 95% confidence interval\n",
    "print(np.mean(gfg_data10))\n",
    "st.t.interval(alpha=0.95, df=len(gfg_data10)-1,\n",
    "              loc=np.mean(gfg_data10),\n",
    "              scale=st.sem(gfg_data10))"
   ]
  },
  {
   "cell_type": "code",
   "execution_count": 423,
   "id": "f858c379",
   "metadata": {},
   "outputs": [
    {
     "name": "stdout",
     "output_type": "stream",
     "text": [
      "0.8951393908330594\n"
     ]
    },
    {
     "data": {
      "text/plain": [
       "(0.8686818670029074, 0.9215969146632114)"
      ]
     },
     "execution_count": 423,
     "metadata": {},
     "output_type": "execute_result"
    }
   ],
   "source": [
    "print(np.mean(gfg_data2))\n",
    "st.t.interval(alpha=0.95, df=len(gfg_data2)-1,\n",
    "              loc=np.mean(gfg_data2),\n",
    "              scale=st.sem(gfg_data2))"
   ]
  },
  {
   "cell_type": "code",
   "execution_count": 424,
   "id": "b6e2f157",
   "metadata": {},
   "outputs": [
    {
     "name": "stdout",
     "output_type": "stream",
     "text": [
      "0.848767764359917\n"
     ]
    },
    {
     "data": {
      "text/plain": [
       "(0.8103806707040343, 0.8871548580157996)"
      ]
     },
     "execution_count": 424,
     "metadata": {},
     "output_type": "execute_result"
    }
   ],
   "source": [
    "print(np.mean(gfg_data50))\n",
    "st.t.interval(alpha=0.95, df=len(gfg_data50)-1,\n",
    "              loc=np.mean(gfg_data50),\n",
    "              scale=st.sem(gfg_data50))"
   ]
  },
  {
   "cell_type": "code",
   "execution_count": 426,
   "id": "1f2a5459",
   "metadata": {},
   "outputs": [
    {
     "name": "stdout",
     "output_type": "stream",
     "text": [
      "J2 - Proposed P:\n",
      "     Floor1      Floor2      Floor3     Floor4      Floor5       Floor6 \n",
      "     Floor7      Floor8 \n",
      " [[ 0.52739123  0.51687282  0.49723106  0.47822138  0.42461037  0.42686306\n",
      "   0.46336429  0.48655162]\n",
      " [ 0.91656032  0.89456714  0.80695345 -0.83008197 -0.80534578  0.60604258\n",
      "   0.63497211  0.64877933]\n",
      " [ 0.70841842  0.69547304 -0.67146885 -0.67055326 -0.68005502  0.69261162\n",
      "   0.69481937  0.69584504]\n",
      " [ 0.7126644   0.61084127  0.50940915  0.50097485  0.52066629  0.55960257\n",
      "   0.5745873   0.57832823]\n",
      " [-0.66474778 -0.65609228 -0.69751114 -0.72957003 -0.77305054 -0.81613162\n",
      "  -0.84770506 -0.86473906]\n",
      " [ 0.88346006  0.86184916 -0.82963707  0.78578232  0.78412277  0.78655576\n",
      "   0.78774307  0.78836108]\n",
      " [ 0.9310152   0.91750132  0.80048683  0.65961842  0.55908248  0.57836098\n",
      "   0.64273652 -0.7213725 ]\n",
      " [ 0.92545289  0.93213314 -0.88511561 -0.81749908 -0.84017789 -0.90916348\n",
      "   0.93852016  0.94273405]\n",
      " [ 1.01060236  1.00908346  0.98576465  0.9126875   0.85910067  0.87673333\n",
      "   0.95790343  0.97317015]\n",
      " [ 0.88799011  0.88310585  0.87287108  0.86306375  0.84446326  0.84435085\n",
      "   0.8402084   0.837239  ]\n",
      " [-0.76810381 -0.66691553 -0.67463159 -0.69714913 -0.6790571  -0.60693281\n",
      "   0.59676687  0.60408492]\n",
      " [ 0.99270808  0.9911724   0.98841362  0.96789333  0.96232736  0.91626256\n",
      "  -0.72243784 -0.84373291]\n",
      " [ 0.92129715 -0.93695879 -0.88238713 -0.87696513 -0.87355239  0.87290848\n",
      "  -0.86342983 -0.85106984]\n",
      " [ 0.7981266   0.76993457  0.8285072  -0.82840079  0.80798856  0.7933304\n",
      "  -0.82006128  0.79881   ]\n",
      " [-0.81475759 -0.74379709  0.75818516 -0.78008633 -0.79121359 -0.79326832\n",
      "  -0.79065244 -0.78760715]\n",
      " [ 0.77110418  0.76767559  0.76945854  0.77615334  0.78611857  0.79636807\n",
      "   0.80525126  0.80997598]\n",
      " [ 0.65298302  0.63395338  0.60745369 -0.56117806  0.52061332  0.53216032\n",
      "   0.52969712  0.52588536]\n",
      " [ 0.87846411  0.89701971  0.89562633  0.88995882  0.87795072 -0.76206948\n",
      "  -0.73194934 -0.76481295]\n",
      " [ 1.01509969  1.01888568  1.02647191  1.03555466  0.95607107  0.95324817\n",
      "   0.93963576 -0.87058902]\n",
      " [ 0.92182732  0.88273637  0.82189492  0.70909803 -0.70344788 -0.80736643\n",
      "  -0.84659235 -0.86005043]\n",
      " [ 0.95998168  0.95477614 -0.87154302  0.83199607  0.82045343  0.8211544\n",
      "   0.8301109   0.8342003 ]\n",
      " [-1.04460746  0.96767165 -0.87883706  0.80234195  0.78833605  0.82953917\n",
      "  -1.0079563  -1.10155774]\n",
      " [-0.69341106  0.728496    0.77605842  0.83103282  0.88572912  0.93209943\n",
      "   0.96729688  0.98624772]\n",
      " [-0.70195202 -0.68998937 -0.67740952 -0.65767843 -0.63800181 -0.61921376\n",
      "  -0.60355917 -0.59439536]\n",
      " [-0.81475907 -0.74379821  0.7581831  -0.78008485 -0.79121179 -0.79326594\n",
      "  -0.79064948 -0.7876037 ]\n",
      " [ 0.77109649  0.7676685   0.76945069  0.77614494  0.78610984  0.79635886\n",
      "   0.80524216  0.80996692]\n",
      " [ 0.65298123  0.63395189  0.60745258 -0.56117719  0.52061231  0.53215955\n",
      "   0.52969624  0.52588442]\n",
      " [ 0.87846169  0.89701786  0.8956264   0.88995881  0.87795019 -0.76207086\n",
      "  -0.73195014 -0.76481283]\n",
      " [ 0.84276022  0.80822543  0.76714141  0.71980597 -0.73201113 -0.73824766\n",
      "   0.76727382  0.86718778]\n",
      " [-0.78503219  0.8054318   0.76562749  0.70235013  0.67842352 -0.61945179\n",
      "   0.62048272  0.65516743]\n",
      " [ 0.73188779  0.71167337  0.68583697 -0.66662154 -0.60356257  0.52082754\n",
      "   0.56593058  0.59153481]\n",
      " [ 0.69426161 -0.6475808  -0.61009867 -0.60395799 -0.60873938 -0.60735571\n",
      "  -0.59142986 -0.57747058]\n",
      " [ 0.55707852  0.54817581  0.53999135  0.53066356  0.51893971  0.52087754\n",
      "   0.52159991  0.5176744 ]\n",
      " [ 0.67295206  0.67840616  0.67679146 -0.6617379  -0.61987547  0.61434563\n",
      "   0.63957693  0.64856337]\n",
      " [-0.77748311 -0.72960182 -0.71305532 -0.72789318 -0.76289474 -0.72110455\n",
      "  -0.69562257 -0.6820705 ]\n",
      " [-0.78867903 -0.74387206 -0.72908303 -0.72267148 -0.76902664 -0.8098015\n",
      "  -0.8305415  -0.83935152]\n",
      " [-0.6797604   0.63864091  0.63075926  0.61983663  0.60762185 -0.63227202\n",
      "  -0.69563399 -0.744786  ]\n",
      " [-0.64891673 -0.60454264  0.63777701  0.68902501  0.73996014  0.78530372\n",
      "  -0.81850801 -0.83052377]\n",
      " [ 0.84788162  0.83672224  0.79829679 -0.84864607  0.87735705  0.8685656\n",
      "   0.86601397  0.8652905 ]\n",
      " [-0.67395133  0.67097494  0.66858357  0.6632965  -0.67022086 -0.66951965\n",
      "   0.67193449  0.67502445]\n",
      " [-0.79022423  0.80538867  0.7853879   0.75051638  0.71354556  0.72215843\n",
      "   0.74083906  0.75149399]\n",
      " [ 0.75723008 -0.63582014 -0.54057329  0.48725345  0.48758743  0.48715077\n",
      "  -0.48403284 -0.4933204 ]\n",
      " [-0.66476099 -0.65609952 -0.69751142 -0.72957007 -0.77305103 -0.81613242\n",
      "  -0.8477061  -0.86474001]\n",
      " [ 0.88345361  0.86184275 -0.82963352  0.78577998  0.78411941  0.78655265\n",
      "   0.78774025  0.78835828]\n",
      " [ 0.61431614  0.60717306  0.60012932  0.59053332  0.58716929  0.59538345\n",
      "   0.60868927  0.61636327]\n",
      " [ 0.61242313  0.64688193 -0.65980945 -0.61119179 -0.57839211 -0.62924586\n",
      "  -0.63725809 -0.63859034]\n",
      " [ 0.          0.          0.          0.          0.          0.\n",
      "   0.          0.        ]\n",
      " [ 0.          0.          0.          0.          0.          0.\n",
      "   0.          0.        ]\n",
      " [ 0.74204376 -0.70116877  0.72211638  0.71986436  0.70810779  0.694851\n",
      "   0.67779642 -0.63423025]\n",
      " [ 1.02318326  1.03825168 -0.76532487 -0.64754963  0.60209514  0.57946618\n",
      "  -0.58803103 -0.60682453]\n",
      " [ 0.96589094  0.9573832  -0.7177167   0.61752627  0.60441707  0.58503692\n",
      "   0.56335555  0.54582912]\n",
      " [ 0.94917354  0.93887843  0.92066029  0.89289004  0.85979803  0.82579465\n",
      "   0.8002974   0.77834034]\n",
      " [-1.00962108  0.77620715  0.74703218 -0.67944355  0.58151117  0.61452121\n",
      "   0.72147916  0.78798091]\n",
      " [ 1.02532984  1.04795635  0.95593583 -0.92060823 -0.7182293   0.65515496\n",
      "   0.66311301  0.66717671]\n",
      " [ 0.89242986  0.86434333  0.95873209  0.96907647 -0.96042743 -0.92619906\n",
      "  -0.93796064  0.90064169]\n",
      " [ 1.01009698  0.87574652  0.6714783   0.6413005   0.57563395  0.56871408\n",
      "  -0.5881843  -0.60525235]\n",
      " [ 0.86973574 -0.71922815 -0.64912901 -0.56245115  0.54539592  0.54505873\n",
      "   0.54614478  0.54738759]\n",
      " [-0.84251198  0.57941709  0.47462942  0.48325752  0.49671363  0.51394094\n",
      "   0.54597899  0.57313623]\n",
      " [ 0.98943044  0.98912869  0.98655057  1.01983119  1.02312543  1.0297566\n",
      "   1.02418633  1.0235109 ]\n",
      " [ 0.96958481  0.96176105 -0.9660917   0.99807387  0.9984527   0.99470991\n",
      "   0.99066115  0.97471936]]\n"
     ]
    }
   ],
   "source": [
    "print(\"J2 - Proposed P:\\n\", \"    Floor1      Floor2      Floor3     Floor4      Floor5       Floor6 \\n     Floor7      Floor8 \\n\", J2r)\n",
    "PJ2 = np.zeros([len(GMdt), 1]) \n",
    "for ijk in range(0,len(GMdt)):\n",
    "    PJ2[ijk,:] = max(np.absolute(J2r[ijk,:]))\n",
    "PJ2[46:56] = PJ2[48:58]"
   ]
  },
  {
   "cell_type": "code",
   "execution_count": 370,
   "id": "d45f1141",
   "metadata": {},
   "outputs": [
    {
     "name": "stdout",
     "output_type": "stream",
     "text": [
      "J2 - Proposed PI:\n",
      "     Floor1      Floor2      Floor3     Floor4      Floor5       Floor6 \n",
      "     Floor7      Floor8 \n",
      " [[ 0.46971138  0.48681127  0.50137137  0.51536436 -0.45218377 -0.38469078\n",
      "  -0.33709852  0.33785645]\n",
      " [ 1.08278541  1.0878602   1.01525486  0.88594556  0.70491644 -0.44226766\n",
      "   0.53244135  0.5837294 ]\n",
      " [ 0.45909416  0.41272935  0.38892838  0.39974068  0.41303408 -0.42239238\n",
      "  -0.41960824 -0.41726685]\n",
      " [ 0.80317954  0.7726463   0.72536288  0.66192297  0.60535088  0.57452884\n",
      "   0.56121742  0.55506885]\n",
      " [-1.02428614 -1.0376148  -1.02653411 -0.9894309  -0.96762784 -0.94414322\n",
      "  -0.92070034 -0.9122881 ]\n",
      " [ 0.77707112  0.71211858 -0.66447561 -0.60181771 -0.55470347 -0.52451907\n",
      "  -0.50771692 -0.50083845]\n",
      " [ 0.87403663  0.9056136  -0.77318554  0.64950017  0.54921518  0.54212676\n",
      "   0.60159375  0.63652642]\n",
      " [ 0.82848918  0.94408339 -0.8437715  -0.67449608  0.65293119  0.74119791\n",
      "  -0.79599563 -0.81970362]\n",
      " [ 1.13505477  1.10448036  1.02906979  0.94420806  0.96605941  0.97895039\n",
      "   0.97721372  0.93906237]\n",
      " [-1.04954167 -1.00734572 -0.98010278 -1.01619122 -1.02930696 -1.03831244\n",
      "  -1.10025316 -1.15191748]\n",
      " [-0.55637503  0.49213485  0.47551301  0.47118285  0.43421413  0.3585374\n",
      "   0.33672798  0.34691688]\n",
      " [ 0.96941821  0.96645701  0.95695106  0.94656274  0.86689835  0.76312809\n",
      "  -0.73146152  0.87418427]\n",
      " [-0.93051743  1.04987542 -0.88502116 -0.87789591 -0.87500886  0.87364751\n",
      "  -0.86453556  0.91988802]\n",
      " [ 0.84940691  0.94738014  1.09201398 -1.05973135 -0.96826498 -0.9082126\n",
      "   1.05932122 -1.12616549]\n",
      " [-0.65351267 -0.66133636 -0.67096438  0.65099952  0.6280497   0.60528732\n",
      "   0.58838537  0.5796397 ]\n",
      " [ 0.58377395  0.60896217  0.62681786  0.63682525  0.64134358  0.64036549\n",
      "   0.63771233  0.63605194]\n",
      " [ 0.46337869  0.43191572  0.37797409 -0.31559824 -0.305187   -0.31838195\n",
      "  -0.3257299   0.33010743]\n",
      " [ 0.86526101  0.80157744  0.63480913  0.58162197 -0.60600106  0.57004314\n",
      "   0.53804645 -0.5284676 ]\n",
      " [ 1.03015219  1.04106985  1.05971747  1.07504261 -0.82001513  0.76793234\n",
      "  -0.81529681 -0.92577799]\n",
      " [ 0.8997991   0.80439645  0.62415558  0.59752889  0.61330414  0.6044833\n",
      "  -0.59200249 -0.61183134]\n",
      " [ 0.93558069  0.93228048 -0.90817084 -0.81773983 -0.74445791  0.75292308\n",
      "   0.80489464  0.82641048]\n",
      " [-1.04003806 -0.98428811  0.83486427 -0.76852852 -0.78653538  1.01621789\n",
      "  -1.26375727 -1.34951148]\n",
      " [ 0.69164528  0.68123731 -0.67378098 -0.70481913 -0.74410591 -0.78158314\n",
      "  -0.81356514 -0.83239535]\n",
      " [-0.59295416 -0.60386173 -0.61136364 -0.61013057 -0.60850738 -0.60689628\n",
      "  -0.60578501 -0.60497901]\n",
      " [-0.65351411 -0.66133572 -0.67096193  0.65099693  0.62804684  0.60528393\n",
      "   0.58838151  0.5796355 ]\n",
      " [ 0.58376197  0.60895257  0.62680773  0.63681504  0.64133411  0.64035665\n",
      "   0.63770431  0.63604429]\n",
      " [ 0.46337518  0.4319135   0.37797165 -0.31559626 -0.30518605 -0.31838061\n",
      "  -0.32572832  0.33010911]\n",
      " [ 0.86527275  0.80157813  0.63481038  0.58162295 -0.6059992   0.57004255\n",
      "   0.53804564 -0.52846734]\n",
      " [ 0.74257776 -0.75305167 -0.72569435 -0.65669567 -0.56518097 -0.66078685\n",
      "  -0.72469982  0.79284044]\n",
      " [-0.72957051  0.77357546 -0.71540451 -0.65547787 -0.59586084  0.49708499\n",
      "  -0.53379678 -0.54866041]\n",
      " [ 0.45316745  0.46132635  0.46630901  0.51501804  0.54015606  0.55080658\n",
      "   0.5534424   0.55410812]\n",
      " [ 0.56034711 -0.52793209 -0.50344265 -0.49720313 -0.48924074 -0.49378724\n",
      "  -0.50010983  0.50934198]\n",
      " [ 0.44963245  0.42552767  0.36850257 -0.33510419  0.32351615  0.37154978\n",
      "   0.40592027  0.42269734]\n",
      " [ 0.58825394  0.58229745  0.5813137  -0.57806546 -0.55760061 -0.54411132\n",
      "  -0.52888139  0.52154209]\n",
      " [-0.80696978 -0.76208178 -0.75995906 -0.81008549 -0.90256574 -0.88984019\n",
      "  -0.8800042  -0.87327745]\n",
      " [ 0.85538296  0.84019843  0.83501846  0.82286968  0.7959134   0.74762003\n",
      "   0.75486578  0.76601675]\n",
      " [-0.54618446  0.54989989  0.54073952  0.52476155  0.51295371  0.50817323\n",
      "   0.50281369 -0.50829452]\n",
      " [ 0.42826177  0.39966524 -0.37345552 -0.36692416  0.38552579  0.41669546\n",
      "  -0.43950163 -0.45042969]\n",
      " [-0.98023093 -0.86717202 -0.79512317 -0.73515061  0.64001278  0.55260148\n",
      "  -0.57704438 -0.61869221]\n",
      " [ 0.4252835  -0.42031736 -0.41455682 -0.4126742  -0.40867561 -0.40174454\n",
      "  -0.39692875 -0.3953514 ]\n",
      " [-0.61880347  0.60595141  0.5445777   0.45440222  0.42811343  0.34170489\n",
      "  -0.35830301 -0.37723094]\n",
      " [-0.63534295  0.50337247  0.47928451  0.42403199  0.35598374 -0.33052557\n",
      "   0.34708804  0.35311536]\n",
      " [-1.02429069 -1.03761837 -1.0265321  -0.98942727 -0.96762403 -0.94414011\n",
      "  -0.92069772 -0.91228517]\n",
      " [ 0.7770647   0.71211391 -0.66447186 -0.60181196 -0.55469809 -0.5245143\n",
      "  -0.50771331 -0.50083526]\n",
      " [-0.61868038 -0.57803184 -0.52438197  0.50346773  0.49327645  0.47822882\n",
      "   0.46085271  0.47269803]\n",
      " [ 0.58024076 -0.62406235  0.66273678  0.59796717 -0.54421223 -0.61249842\n",
      "  -0.63980416 -0.65221369]\n",
      " [ 0.          0.          0.          0.          0.          0.\n",
      "   0.          0.        ]\n",
      " [ 0.          0.          0.          0.          0.          0.\n",
      "   0.          0.        ]\n",
      " [ 0.60973507  0.47551558 -0.45182017 -0.39613455  0.36013107  0.32661151\n",
      "   0.31531629 -0.29673693]\n",
      " [ 1.02605275  1.0506019   0.64289562  0.46514211  0.45735487  0.45612725\n",
      "   0.47152929  0.48506857]\n",
      " [ 0.93746583  0.93980291 -0.71304255  0.58326086  0.44962085  0.36796579\n",
      "   0.39719499  0.41500609]\n",
      " [ 0.89811602  0.88023591  0.84371302  0.78294125  0.71554029  0.65312366\n",
      "   0.60035253  0.65521255]\n",
      " [ 1.29526505 -0.8377759  -0.87325791 -0.87268124 -0.70554642  0.61727983\n",
      "   0.69085052  0.74061883]\n",
      " [ 0.97883416  1.28163815 -1.09497842 -0.962451   -0.76117459 -0.6595115\n",
      "  -0.64326071 -0.65329047]\n",
      " [ 0.79482408  0.81846949  0.90883293  0.86343137 -0.85564333 -0.82216917\n",
      "   0.91381929 -0.8976422 ]\n",
      " [ 0.98577409  0.90838545  0.75008297  0.59403578  0.55683834  0.56831637\n",
      "   0.57279971 -0.57836847]\n",
      " [-1.07959114 -0.97098349 -0.88295025 -0.78829456  0.67162553  0.55770213\n",
      "   0.51231655 -0.53036812]\n",
      " [-0.95200525  0.85322468  0.81868191  0.76978134  0.72093705  0.69250271\n",
      "   0.68356357  0.68355214]\n",
      " [ 0.93220604  0.92898387 -0.97533464  1.09688577  1.12077551  1.14967374\n",
      "   1.13966863  1.12738163]\n",
      " [ 0.98364629  0.97819388 -1.07046653  1.10700121  1.10618271  1.0972111\n",
      "   1.09165866  1.04096107]]\n"
     ]
    }
   ],
   "source": [
    "print(\"J2 - Proposed PI:\\n\", \"    Floor1      Floor2      Floor3     Floor4      Floor5       Floor6 \\n     Floor7      Floor8 \\n\", J2ri)"
   ]
  },
  {
   "cell_type": "code",
   "execution_count": 371,
   "id": "7b48e3e9",
   "metadata": {},
   "outputs": [
    {
     "name": "stdout",
     "output_type": "stream",
     "text": [
      "J2 - Optimal P:\n",
      "     Floor1      Floor2      Floor3     Floor4      Floor5       Floor6 \n",
      "     Floor7      Floor8 \n",
      " [[ 0.80803196  0.82000612  0.81854809  0.80776952  0.7949023   0.8098673\n",
      "   0.81911438  0.82573742]\n",
      " [ 0.94678408  0.92835821  0.91956312  0.92285974  0.9128354   0.91785551\n",
      "   0.92052804  0.921593  ]\n",
      " [-0.84415732  0.86024481 -0.87585677 -0.88467207 -0.9132845   0.92617114\n",
      "   0.92546427  0.92548603]\n",
      " [-0.8384812  -0.83938199 -0.83004397  0.83461841  0.82900805  0.82023821\n",
      "   0.8229301   0.82431719]\n",
      " [ 0.86861339  0.89831358  0.93454616  0.93425162  0.93486826  0.93712878\n",
      "   0.93952326  0.94159827]\n",
      " [ 0.93622367  0.97754589  0.98581568  0.97183402  0.96700178  0.96329337\n",
      "   0.96205556  0.96126632]\n",
      " [ 0.90954661  0.93177281  0.81762342  0.81320299  0.81417436 -0.81228523\n",
      "  -0.81235287 -0.81251225]\n",
      " [ 0.92813566  0.9472973  -0.93501204 -0.85751609 -0.89383608 -0.96621965\n",
      "   0.99320148  0.99233419]\n",
      " [ 0.91224143  0.98618568  0.98803815  0.91256349  0.87304746  0.89605247\n",
      "   0.97579721  0.98915356]\n",
      " [ 0.9431239   0.96922896  0.9778718   0.97147917  0.9649254   0.96415449\n",
      "   0.96223866  0.95868639]\n",
      " [ 0.91267872  0.92206879  0.92508522  0.91389055  0.91039196  0.90874537\n",
      "   0.91070452  0.91148331]\n",
      " [ 0.89728602  0.98829748  1.04183817  0.97371534  0.98006172  0.95548992\n",
      "   0.78243472  0.77261755]\n",
      " [ 0.9199489  -0.97301057 -0.93930063 -0.91637375 -0.91947633  0.90984804\n",
      "  -0.90737175 -0.90047121]\n",
      " [ 0.89883188  0.92799865  0.92923013  0.94165547  0.94951047  0.95079687\n",
      "   0.96454411  0.95872054]\n",
      " [ 0.93982662  0.93975853 -0.9775418   0.97504601  0.9749822   0.97202825\n",
      "   0.97204283  0.97165061]\n",
      " [ 0.89995502  0.89493592  0.89065854  0.89049251  0.89904169  0.90696328\n",
      "   0.91408917  0.91790086]\n",
      " [ 0.88885634  0.91220268  0.91793661 -0.88626983  0.87073589  0.87153547\n",
      "   0.87387913  0.87534225]\n",
      " [ 0.94717148  0.96801371  0.98649485  0.98180776  0.9787949   0.94162251\n",
      "   0.9414337   0.93969691]\n",
      " [ 0.92774732  0.99057746  1.03718996  1.00315853  0.99011645  0.99274689\n",
      "   0.99481535  0.96250317]\n",
      " [ 0.92267709  0.97188232  0.96708647  0.8845976   0.89296975 -0.91206477\n",
      "  -0.94943295 -0.96026992]\n",
      " [ 0.93246625  0.95880695  0.98306024  0.96563984  0.96814923  0.9718867\n",
      "   0.97525507  0.97698671]\n",
      " [-0.90085883  0.93892104  0.93580775  0.94378222  0.95685879  0.96577258\n",
      "   0.92995373  0.97545993]\n",
      " [ 0.91232274  0.91363718  0.91560272  0.91557796  0.91785407  0.92014352\n",
      "   0.95431811  0.97261074]\n",
      " [-0.91676043 -0.90280775 -0.89506376  0.89753408  0.9006666   0.90241657\n",
      "   0.90399269  0.90441783]\n",
      " [ 0.9398259   0.93975792 -0.9775408   0.97504572  0.97498188  0.97202791\n",
      "   0.97204248  0.97165024]\n",
      " [ 0.89994567  0.89492629  0.8906482   0.89048173  0.8990306   0.90695168\n",
      "   0.91407764  0.91788936]\n",
      " [ 0.88885615  0.91220227  0.91793618 -0.88626948  0.8707357   0.87153531\n",
      "   0.87387913  0.87534208]\n",
      " [ 0.94716962  0.9680118   0.98649498  0.98180775  0.97879451  0.94162235\n",
      "   0.94143359  0.93969682]\n",
      " [ 0.91838221  0.92801193  0.9287635   0.90797625  0.91206443  0.90182613\n",
      "   0.90158691  0.89984567]\n",
      " [ 0.92727737  0.9426287   0.91936348  0.85620325 -0.87028275  0.89072371\n",
      "  -0.87834881  0.8961416 ]\n",
      " [-0.89819536  0.87180496  0.86960505  0.87987238  0.87448169  0.85716172\n",
      "   0.83249811  0.83343518]\n",
      " [ 0.92245341  0.89847782  0.90682791  0.90381017  0.90417269  0.90272313\n",
      "   0.905272    0.90700747]\n",
      " [ 0.87854096  0.88746207  0.88819709  0.88360148  0.88213896  0.87956018\n",
      "   0.87879386  0.87987144]\n",
      " [ 0.91658717  0.92983244  0.93327016 -0.92917039 -0.89749438  0.87650402\n",
      "   0.88024292  0.8836309 ]\n",
      " [ 0.88767773  0.9030432   0.90631826  0.90233732  0.93042284  0.92807775\n",
      "   0.92623322  0.92540807]\n",
      " [ 0.94275226  0.95804387  0.95930914  0.95839795  0.95230243  0.94658915\n",
      "   0.94545188  0.94514409]\n",
      " [ 0.91060582 -0.90624311  0.89656109  0.87913102  0.87188504  0.86712685\n",
      "   0.86526799  0.86413859]\n",
      " [ 0.88679673  0.90006129  0.90386108  0.89921376  0.89915585  0.89719979\n",
      "  -0.89431401 -0.88593863]\n",
      " [ 0.92839006  0.95608904  0.95970944  0.94625236  0.98416231  0.97709808\n",
      "   0.97713316  0.97671963]\n",
      " [-0.91397893  0.93378713  0.93569148  0.93436834  0.93404772  0.93532837\n",
      "   0.93793235  0.93956727]\n",
      " [ 0.88883553  0.94144689  0.95732581  0.94519217  0.94643277  0.94119448\n",
      "   0.93959726  0.93865671]\n",
      " [ 0.8485692   0.85593025  0.85384738  0.84736936  0.84420118  0.84067708\n",
      "   0.83927571  0.84074115]\n",
      " [ 0.86861252  0.89831678  0.93454546  0.93425128  0.93486782  0.93712837\n",
      "   0.93952285  0.94159785]\n",
      " [ 0.93622197  0.97754388  0.98581589  0.97183274  0.9670005   0.96329228\n",
      "   0.96205472  0.96126545]\n",
      " [ 0.86689364  0.90077589  0.9100427   0.90295413  0.90588788  0.90756992\n",
      "   0.91119528  0.912508  ]\n",
      " [ 0.88582562  0.8817426   0.91734165  0.91969098  0.92969754  0.9340871\n",
      "   0.90254428  0.900321  ]\n",
      " [ 0.          0.          0.          0.          0.          0.\n",
      "   0.          0.        ]\n",
      " [ 0.          0.          0.          0.          0.          0.\n",
      "   0.          0.        ]\n",
      " [ 0.90571856  0.92603492  0.94716253  0.93689689  0.93741948  0.93167193\n",
      "   0.92955107  0.88917149]\n",
      " [ 0.94727793  1.02513805  0.91047292  0.9024744   0.89962409  0.89265435\n",
      "   0.88547548  0.88091995]\n",
      " [ 0.9083474   0.98269048  0.91063885  0.91202921  0.91350438  0.91258481\n",
      "   0.91043869  0.90882532]\n",
      " [ 0.90421219  0.98084573  1.01114148  0.98106121  0.97446295  0.95371604\n",
      "   0.96139483  0.96638626]\n",
      " [ 1.01578038  0.90767594  0.91881166  0.8774315   0.8693472   0.86231463\n",
      "   0.86160836  0.86396575]\n",
      " [ 0.96876471  1.00676886  0.98513917  0.9213883   0.9322405   0.93639378\n",
      "   0.94007517  0.93848415]\n",
      " [ 0.93331463  0.94259359  0.9797791   0.98539324 -0.98357342 -0.94520195\n",
      "  -0.96204897  0.94959644]\n",
      " [ 0.92339619  0.83525546  0.82049331  0.86477113  0.86537868  0.86588052\n",
      "   0.86783559  0.86856729]\n",
      " [-0.86797747 -0.86988268 -0.8799629  -0.89431736  0.90166276  0.90250772\n",
      "   0.903554    0.90422746]\n",
      " [-0.82054618 -0.78450732 -0.77803284 -0.76710886 -0.76039527 -0.75642497\n",
      "  -0.75446467 -0.75329692]\n",
      " [ 0.8984692   0.95318507  0.97835275  0.98409024  1.01351194  0.99803889\n",
      "   1.00109317  1.00422547]\n",
      " [ 0.93619722  0.94709954 -0.97450347  0.99408665  1.01016308  0.99823285\n",
      "   1.00288261  0.98869338]]\n"
     ]
    }
   ],
   "source": [
    "print(\"J2 - Optimal P:\\n\", \"    Floor1      Floor2      Floor3     Floor4      Floor5       Floor6 \\n     Floor7      Floor8 \\n\", J2o)"
   ]
  },
  {
   "cell_type": "code",
   "execution_count": 372,
   "id": "5998f6a0",
   "metadata": {},
   "outputs": [
    {
     "name": "stdout",
     "output_type": "stream",
     "text": [
      "J2 - Optimal PI:\n",
      "     Floor1      Floor2      Floor3     Floor4      Floor5       Floor6 \n",
      "     Floor7      Floor8 \n",
      " [[-0.67189558  0.68973103  0.70811995  0.7078356   0.71129468  0.73630133\n",
      "   0.75713777  0.77360721]\n",
      " [ 0.88637866  0.85119554  0.86079293 -0.84231243  0.89929758  0.88875485\n",
      "   0.88158074  0.88140023]\n",
      " [-0.86837354 -0.87043793 -0.87065353 -0.8479156  -0.87415364  0.87698062\n",
      "   0.87605587  0.87553554]\n",
      " [-0.7629148  -0.77948732  0.78717064  0.7822845   0.77996643  0.74687938\n",
      "   0.71715258  0.71844277]\n",
      " [ 0.81710727  0.89596304  0.93245686  0.92108565  0.92074231  0.92085951\n",
      "   0.93048611  0.9382101 ]\n",
      " [ 0.93919681  1.03791995 -1.04342728  0.95289427  0.95617025  0.94643485\n",
      "   0.94886934  0.95095992]\n",
      " [ 0.81709291  0.91689948  0.87842958  0.74976315  0.75216996 -0.74632728\n",
      "   0.75679402  0.81746221]\n",
      " [ 0.78810359  0.97183826 -1.03222874 -0.88091048 -0.89963189 -0.97324159\n",
      "   1.00185942  1.00490007]\n",
      " [-0.7787623   1.02218346  1.06516549  0.93820413  0.88875266  0.88094296\n",
      "   0.94935768  0.96134695]\n",
      " [-0.8799291   0.95885729  0.9929586   0.94638938  0.92178321  0.91887912\n",
      "   0.91673005  0.90724084]\n",
      " [ 0.88840619 -0.90654499 -0.91916489  0.88091939  0.88206346  0.84549832\n",
      "   0.84947259  0.85196478]\n",
      " [ 0.79347683  0.99690581  1.19940205  0.98556012 -0.96938978 -0.97091759\n",
      "  -0.77288061 -0.75744904]\n",
      " [ 0.82404245 -0.96370121 -0.99412953 -0.9024409  -0.93333091  0.89613595\n",
      "  -0.91294388 -0.92067613]\n",
      " [ 0.80792008  0.92485822  0.95633174 -0.91138985 -0.91216545 -0.93148683\n",
      "  -0.99288256  0.98205949]\n",
      " [-0.88129431 -0.94429761 -0.9884515   0.9711823   0.96754785  0.95819792\n",
      "   0.95513229  0.95323145]\n",
      " [ 0.77738631  0.83649019  0.85030058  0.8282178   0.8445895   0.84454101\n",
      "   0.85365019  0.85769432]\n",
      " [ 0.80036699  0.88192037  0.90196769 -0.84010243  0.80385718  0.78810706\n",
      "   0.78809485  0.78992223]\n",
      " [ 0.88962119  0.92193276  0.98587441  0.96835608  0.95973543  0.91136986\n",
      "   0.91209494  0.90860572]\n",
      " [ 0.76790903  0.99066638  1.16946211  0.98425405  1.00697965  1.00991323\n",
      "   0.98346425 -0.97812739]\n",
      " [ 0.85438299  1.03167155  1.03032178  0.94214438  0.89789269 -0.89471103\n",
      "  -0.94259856 -0.9553298 ]\n",
      " [ 0.89564609  0.98251478  1.02064747  0.97281265  0.96750485  0.96092576\n",
      "   0.98201155  0.99385989]\n",
      " [ 0.9502969   0.97539077  0.94223893  0.9271271   0.93539933  0.9195341\n",
      "   0.95660088  1.00167254]\n",
      " [ 0.78660259  0.84892536  0.859905    0.82870614  0.89593558  0.93277408\n",
      "   0.97365426  0.99516583]\n",
      " [ 0.84698492 -0.83719766  0.84451596  0.84793014  0.84973138  0.85658407\n",
      "   0.8619185   0.86550666]\n",
      " [-0.88129382 -0.94429746 -0.98845034  0.97118195  0.96754742  0.95819702\n",
      "   0.95513173  0.95323084]\n",
      " [ 0.77737734  0.83648047  0.85029102  0.82820771  0.84457892  0.84452989\n",
      "   0.85363915  0.85768326]\n",
      " [ 0.80036606  0.88192004  0.90196604 -0.84010163  0.80385712  0.78810713\n",
      "   0.78809448  0.78992185]\n",
      " [ 0.88961993  0.92193108  0.9858742   0.96835604  0.95973595  0.91136977\n",
      "   0.91209494  0.90860585]\n",
      " [ 0.86973192  0.9153044   0.94386191  0.84190079  0.87418009  0.78452453\n",
      "   0.81373687  0.87908471]\n",
      " [ 0.89423444  0.90719498  0.89299468 -0.80664476 -0.86721963  0.84439505\n",
      "   0.8496166   0.87768438]\n",
      " [-0.85332251 -0.8273115  -0.81989563  0.82103558  0.81854954  0.79640448\n",
      "   0.77120649  0.75580448]\n",
      " [-0.82194385  0.87222074  0.8887962   0.86988269  0.85840079  0.84366419\n",
      "   0.82351046  0.81887783]\n",
      " [ 0.77264026  0.81684359  0.82463629  0.80104445  0.79745241  0.78738025\n",
      "   0.7924938   0.79775114]\n",
      " [ 0.76964423  0.84815257  0.87024295 -0.83712117 -0.80863186  0.82982655\n",
      "   0.84235863  0.84614572]\n",
      " [ 0.78940313  0.84974003  0.85816445  0.82655855  0.87636677  0.87400522\n",
      "   0.88035093  0.88451273]\n",
      " [ 0.89871385  0.90540416  0.90798904  0.90097423  0.89966705  0.90358194\n",
      "   0.90641202  0.90749976]\n",
      " [-0.82719176  0.87838751  0.91081888  0.85360237 -0.85126316 -0.84387983\n",
      "  -0.83373074 -0.83355174]\n",
      " [-0.83811188  0.85094053  0.86286394  0.83479441  0.82725613  0.81456257\n",
      "  -0.82500307 -0.83494876]\n",
      " [ 0.95644616  0.99322251  1.00294547  0.9614944   0.99150879  0.96964606\n",
      "   0.96276641  0.95968431]\n",
      " [-0.8465216   0.90034638  0.90154856  0.89007184  0.8943179   0.89832016\n",
      "   0.90843629  0.91299825]\n",
      " [ 0.89037904  0.96855347  1.01233084  0.96210994  0.93316897  0.90502853\n",
      "   0.89923499  0.89747564]\n",
      " [ 0.75174416  0.78580068  0.78822976  0.76702334  0.76579964 -0.77576081\n",
      "   0.78723613  0.79057031]\n",
      " [ 0.81711036  0.89596666  0.93245579  0.92108529  0.92074147  0.92085928\n",
      "   0.93048605  0.93821029]\n",
      " [ 0.93919497  1.03791667 -1.04342636  0.95289298  0.95616891  0.94643237\n",
      "   0.94886718  0.95095769]\n",
      " [ 0.76036543  0.86275565  0.8914543   0.85263839  0.85243118  0.84361827\n",
      "   0.84689927  0.84983429]\n",
      " [ 0.79639186  0.79793898  0.85999978  0.8385655   0.8515434   0.86990021\n",
      "   0.8773547   0.87881296]\n",
      " [ 0.          0.          0.          0.          0.          0.\n",
      "   0.          0.        ]\n",
      " [ 0.          0.          0.          0.          0.          0.\n",
      "   0.          0.        ]\n",
      " [ 0.85782342  0.91987538  0.93562704  0.8941242   0.91415982  0.89034629\n",
      "   0.88577543 -0.83621297]\n",
      " [ 0.80677618  1.05816358  0.87469889  0.80947177  0.81881417  0.81596691\n",
      "   0.81733492  0.81905073]\n",
      " [ 0.70941492  0.96845411  0.88698696  0.87750834  0.87731922  0.86667795\n",
      "   0.8613694   0.85220265]\n",
      " [ 0.73746163  0.98361236  1.11092339  0.98256346  0.96619067  0.89060977\n",
      "   0.94485965  0.98416606]\n",
      " [ 1.11850726  0.89955641  0.93893146  0.83220169  0.80845439  0.79437724\n",
      "   0.80073308  0.84920948]\n",
      " [ 1.03247783  1.05127488  1.01854153 -0.94511538  0.89177465  0.89121988\n",
      "   0.8986465   0.89799223]\n",
      " [ 0.90862621  0.93056567  1.05928351  0.95577359 -0.97076651 -0.92899912\n",
      "  -0.9438504   0.95307604]\n",
      " [ 0.9262319   0.88589156  0.80912109  0.80441975  0.77211886  0.76826135\n",
      "  -0.78918085 -0.81909116]\n",
      " [ 0.79021924 -0.78545804 -0.80335048 -0.81184371  0.81853733  0.81489243\n",
      "   0.81651348  0.81789452]\n",
      " [-0.8186107  -0.68844961 -0.68430646 -0.66404379 -0.66094637 -0.65492725\n",
      "  -0.65523979 -0.65536213]\n",
      " [ 0.9085261   0.98202596  1.07445825  0.96690922  1.0518562  -1.01362942\n",
      "   1.01345605  1.02230132]\n",
      " [ 0.96778327  0.9991778  -1.08233308  1.00385797  1.04674619  1.0216465\n",
      "   1.03246446  0.99510344]]\n"
     ]
    }
   ],
   "source": [
    "print(\"J2 - Optimal PI:\\n\", \"    Floor1      Floor2      Floor3     Floor4      Floor5       Floor6 \\n     Floor7      Floor8 \\n\", J2oi)"
   ]
  },
  {
   "cell_type": "code",
   "execution_count": 441,
   "id": "a6dc05a8",
   "metadata": {},
   "outputs": [
    {
     "name": "stdout",
     "output_type": "stream",
     "text": [
      "J3 - Proposed P:\n",
      "     Floor1      Floor2      Floor3     Floor4      Floor5       Floor6 \n",
      "     Floor7      Floor8 \n",
      " [[ 0.9049392   0.78529733  0.68833809  0.60379159  0.51743895  0.45760857\n",
      "   0.46084977  0.53538262]\n",
      " [ 0.99414814  0.99500542  1.00269135  0.92444657  0.79030107  0.76663437\n",
      "   0.78318214  0.78770041]\n",
      " [-0.95030205  0.74783002  0.72293946  0.68928662  0.63038262  0.62449475\n",
      "   0.76678498  0.79366601]\n",
      " [ 0.98460344  1.03059207  1.04607527 -0.94753694  0.68669886  0.53665921\n",
      "  -0.70831036 -0.85268776]\n",
      " [ 0.9596957   0.91760746  0.74522042  0.69969424  0.74910541  0.79214\n",
      "   0.79096366  0.79484629]\n",
      " [ 1.05349129 -0.95427058 -0.76065126 -0.71236825 -0.70182353 -0.73625688\n",
      "  -0.83482733  0.83891918]\n",
      " [ 0.97628261  0.95118145  0.99253377  0.97881326 -0.91426372  0.65030672\n",
      "   0.82191379 -0.86252023]\n",
      " [ 1.02007864  0.94764024  0.92463935  0.88440344 -0.73546926  0.74601348\n",
      "   0.9753444   0.98134346]\n",
      " [ 1.00137372  1.01774777  1.03543667 -0.99073145 -0.6829553  -0.85849983\n",
      "   0.9412555   0.95811677]\n",
      " [ 1.00010764  1.01025567  1.02738692 -0.9705863   0.82821462  0.82016264\n",
      "   0.8283312   0.84425981]\n",
      " [ 1.02273778 -0.72852656  0.74602085  0.73081677  0.6771572   0.66885642\n",
      "   0.64466042 -0.66161161]\n",
      " [ 1.00164119  1.00991443  1.0206318   1.00162778  1.00209486 -0.94868371\n",
      "  -0.9130084  -0.99245921]\n",
      " [ 0.98939741  0.98775236  0.99783584 -0.85550699  0.77396387 -0.68857515\n",
      "  -0.76916654  1.09020026]\n",
      " [ 0.96905288  0.95918048  0.95087183  0.88782428  0.80862155  0.7277249\n",
      "   0.74474943 -0.94095675]\n",
      " [ 0.95468501 -0.90717    -0.80544665 -0.78170377 -0.81731706  0.87039568\n",
      "   0.87573565 -0.82770393]\n",
      " [ 0.9125136   0.86869819  0.83845917  0.80960259  0.77764422  0.74302578\n",
      "   0.7445856   0.74573034]\n",
      " [ 1.0109063   0.88030643  0.60620258 -0.53031332 -0.47633736 -0.5330239\n",
      "   0.63189403  0.67840475]\n",
      " [ 1.01013108  1.02908141  1.02435552  0.77623172  0.95444441  0.91735534\n",
      "  -0.88870681  0.83274373]\n",
      " [ 1.00000298  1.00565671  1.01182567  1.01506364  0.96833477  0.95990236\n",
      "   1.00582737  0.99731164]\n",
      " [ 0.95252971  0.90827979  0.84681054 -0.73762592 -0.71311566  0.70176854\n",
      "  -0.75828089  0.8183449 ]\n",
      " [ 1.00139487  1.00985581  1.0172574   0.95756057  0.93699736 -0.7519269\n",
      "   0.86706791 -0.98378426]\n",
      " [ 0.9910677   0.99027895  0.98924495  0.98598207 -0.82871494  0.75110157\n",
      "   1.01968536  1.01490687]\n",
      " [ 0.93499764  0.77675647  0.70654394 -0.75731602 -0.78906424  0.72698729\n",
      "   0.71934829  0.70957014]\n",
      " [-0.78236119  0.72426124  0.6837066   0.64888923  0.63882856  0.63876185\n",
      "   0.64063786  0.64148917]\n",
      " [ 0.95468499 -0.90717988 -0.80545365 -0.78170616 -0.8173156   0.87039494\n",
      "   0.87573402 -0.82770086]\n",
      " [ 0.91251419  0.86869899  0.83846056  0.80960462  0.77764687  0.74302659\n",
      "   0.7445864   0.74573124]\n",
      " [ 1.01090614  0.88030687  0.6062008  -0.53031131 -0.47633525 -0.53302355\n",
      "   0.63189315  0.67840362]\n",
      " [ 1.01013241  1.02908151  1.02435848  0.77623517  0.9544444   0.91735528\n",
      "  -0.8887056   0.83274382]\n",
      " [ 0.99122472  0.98935908  0.98734599 -0.92229035  0.7650819  -0.70867612\n",
      "   0.7169166  -0.77919273]\n",
      " [ 0.9979091   0.99235544  0.81697812  0.72738196  0.71168407 -0.80661507\n",
      "   0.7458093   0.76041029]\n",
      " [ 0.99766288 -1.09483879  1.18954811  1.01849063 -0.81131388 -0.56200884\n",
      "  -0.67072593 -0.76233111]\n",
      " [ 0.9235016  -0.77241932  0.72356549 -0.74209053 -0.73904664  0.5900797\n",
      "   0.61799225  0.64662864]\n",
      " [-1.04371525  0.99126342  0.93076348  0.9161178   0.6575987  -0.53095771\n",
      "   0.50100512  0.55088397]\n",
      " [ 0.99777708  0.97229192  0.82585778  0.75483444 -0.63852952  0.53830784\n",
      "   0.55206673  0.59324822]\n",
      " [-1.00528677  0.80760279 -0.87907161  0.8424886   0.81576213  0.78560251\n",
      "   0.82872819  0.79926081]\n",
      " [ 1.1332372  -0.90436005  0.85508551  0.83946184  0.82039689  0.79102706\n",
      "   0.78301765  0.79460868]\n",
      " [ 1.00110333  1.00911024 -0.83604856 -0.72873661 -0.81069317 -0.68472132\n",
      "  -0.80213807  0.92988995]\n",
      " [ 0.99913021  1.00092598  0.69455018  0.57967527  0.6455835   0.81043224\n",
      "   0.82840086  0.83634286]\n",
      " [ 0.94180624  0.90202144  0.86747928  0.81013188  0.68949361 -0.67902506\n",
      "   0.88606436  0.89771026]\n",
      " [ 0.98552792 -0.76252158 -0.66917965 -0.68846664 -0.73204314  0.75558312\n",
      "   0.75867769  0.76358514]\n",
      " [ 0.9904856   0.833418    0.80702842  0.7549888   0.83323443  0.68345031\n",
      "   0.77464096  0.81625999]\n",
      " [ 0.98370817  0.98368297  0.97028552  0.69307533 -0.66390635  0.50882197\n",
      "  -0.60270267 -0.69745118]\n",
      " [ 0.95969579  0.91760788  0.74521874  0.69969247  0.74910911  0.79213919\n",
      "   0.79096279  0.7948454 ]\n",
      " [ 1.05349123 -0.95426975 -0.76064948 -0.71236505 -0.70182439 -0.73625835\n",
      "  -0.8348291   0.83891514]\n",
      " [ 1.0025709   0.96972364  0.83212872  0.73626167  0.74859398 -0.64509468\n",
      "   0.59259674  0.61879288]\n",
      " [-0.97821318  0.92185657  0.88413849 -0.7447259   0.80020657  0.74934342\n",
      "  -0.62005795 -0.70302119]\n",
      " [ 0.          0.          0.          0.          0.          0.\n",
      "   0.          0.        ]\n",
      " [ 0.          0.          0.          0.          0.          0.\n",
      "   0.          0.        ]\n",
      " [ 0.99728009  0.9633905   0.74551314  0.72636703  0.66592489 -0.57754392\n",
      "   0.69632388  0.7238707 ]\n",
      " [ 1.00010148  1.00399678  0.89754065  0.72896995 -0.67862048  0.65886609\n",
      "   0.7157077   0.79135655]\n",
      " [ 1.00081245  1.0028257   0.99930335  0.976942    0.96698867  0.73515168\n",
      "   0.67371125  0.70825209]\n",
      " [ 1.00347662  1.00844658  1.00308738  0.98902757  0.96357239  0.91505111\n",
      "   0.86445232  0.91362472]\n",
      " [ 1.01595308  0.95582932  0.91782184  0.92033011  0.87907961  0.86692182\n",
      "  -0.76281071  0.82745702]\n",
      " [ 0.99315789  0.99030731  0.99393893  1.06081504  1.06369676  0.74019394\n",
      "   0.72119415 -0.86664693]\n",
      " [ 0.98925446  0.97558081  0.95128012  0.90528383  0.83723874  0.79477759\n",
      "   0.93375289 -0.91407099]\n",
      " [ 1.00180988  1.00396376  1.01654579  1.0239719   0.56293601  0.58139222\n",
      "   0.62354318  0.66042221]\n",
      " [ 1.01919881 -0.98400521  0.94586888  0.93976591  0.60682302  0.5141923\n",
      "   0.53594981  0.71632675]\n",
      " [ 0.98668797  0.97226728  0.95261182  0.67618576 -0.61572292 -0.57897401\n",
      "  -0.72146409 -0.82779846]\n",
      " [ 0.99627104  0.9983452   1.00256096  1.00448093  0.98568741  1.02574111\n",
      "   0.9905961   0.99218   ]\n",
      " [ 1.0007235   1.00856183  0.99381358  0.99834763  0.94477155  0.97457177\n",
      "   1.00567987  1.00082836]]\n"
     ]
    }
   ],
   "source": [
    "print(\"J3 - Proposed P:\\n\", \"    Floor1      Floor2      Floor3     Floor4      Floor5       Floor6 \\n     Floor7      Floor8 \\n\", J3r)\n",
    "PJ3 = np.zeros([len(GMdt), 1]) \n",
    "for ijk in range(0,len(GMdt)):\n",
    "    PJ3[ijk,:] = np.absolute(J3r[ijk,7])\n",
    "PJ3[46:56] = PJ3[48:58]"
   ]
  },
  {
   "cell_type": "code",
   "execution_count": 442,
   "id": "5b72e867",
   "metadata": {},
   "outputs": [
    {
     "name": "stdout",
     "output_type": "stream",
     "text": [
      "0.8417454824937941\n"
     ]
    },
    {
     "data": {
      "text/plain": [
       "(0.7807666796153276, 0.9027242853722606)"
      ]
     },
     "execution_count": 442,
     "metadata": {},
     "output_type": "execute_result"
    }
   ],
   "source": [
    "# define sample data\n",
    "gfg_data10 = PJ3[0:20,0]\n",
    "gfg_data2 = PJ3[20:40,0]\n",
    "gfg_data50 = PJ3[40:57,0]  \n",
    "# create 95% confidence interval\n",
    "print(np.mean(gfg_data10))\n",
    "st.t.interval(alpha=0.95, df=len(gfg_data10)-1,\n",
    "              loc=np.mean(gfg_data10),\n",
    "              scale=st.sem(gfg_data10))"
   ]
  },
  {
   "cell_type": "code",
   "execution_count": 443,
   "id": "8f6e37f0",
   "metadata": {},
   "outputs": [
    {
     "name": "stdout",
     "output_type": "stream",
     "text": [
      "0.7774211323483764\n"
     ]
    },
    {
     "data": {
      "text/plain": [
       "(0.7202542360527188, 0.834588028644034)"
      ]
     },
     "execution_count": 443,
     "metadata": {},
     "output_type": "execute_result"
    }
   ],
   "source": [
    "# create 95% confidence interval\n",
    "print(np.mean(gfg_data2))\n",
    "st.t.interval(alpha=0.95, df=len(gfg_data2)-1,\n",
    "              loc=np.mean(gfg_data2),\n",
    "              scale=st.sem(gfg_data2))"
   ]
  },
  {
   "cell_type": "code",
   "execution_count": 444,
   "id": "6cf48ece",
   "metadata": {},
   "outputs": [
    {
     "name": "stdout",
     "output_type": "stream",
     "text": [
      "0.7726728805142421\n"
     ]
    },
    {
     "data": {
      "text/plain": [
       "(0.7278628063342762, 0.817482954694208)"
      ]
     },
     "execution_count": 444,
     "metadata": {},
     "output_type": "execute_result"
    }
   ],
   "source": [
    "# create 95% confidence interval\n",
    "print(np.mean(gfg_data50))\n",
    "st.t.interval(alpha=0.95, df=len(gfg_data50)-1,\n",
    "              loc=np.mean(gfg_data50),\n",
    "              scale=st.sem(gfg_data50))"
   ]
  },
  {
   "cell_type": "code",
   "execution_count": 446,
   "id": "eafd1b8e",
   "metadata": {},
   "outputs": [
    {
     "name": "stdout",
     "output_type": "stream",
     "text": [
      "J3 - Proposed PI:\n",
      "     Floor1      Floor2      Floor3     Floor4      Floor5       Floor6 \n",
      "     Floor7      Floor8 \n",
      " [[ 0.78691205  0.62401941  0.53773497  0.45212672  0.39818144  0.36751635\n",
      "   0.47114237  0.55008129]\n",
      " [ 0.95353732  0.94266786  0.96757745  0.90609527  0.66045213 -0.57217326\n",
      "   0.68755861 -0.9354908 ]\n",
      " [ 1.08722107  0.67749594 -0.50977501 -0.42733831 -0.38282075  0.31859797\n",
      "  -0.35406014 -0.38893041]\n",
      " [ 0.9510209   1.01610346  1.03326536 -0.877101    0.67129651 -0.56518622\n",
      "  -0.63285987 -0.79888305]\n",
      " [ 0.93875343  0.94502313  0.73915813 -0.61277699  0.62954481 -0.55174761\n",
      "  -0.4957779  -0.48825062]\n",
      " [ 1.16284509 -1.01199164  0.89300986  0.82935245  0.7244433  -0.5636698\n",
      "  -0.70485776  0.7806752 ]\n",
      " [ 0.95410915  0.906067   -0.94285708 -0.96336848  0.8842034  -0.65808376\n",
      "  -0.8944051   0.95634437]\n",
      " [ 1.0846469   0.89529779  0.68908859 -0.73632399 -0.87305771  0.83875557\n",
      "  -1.01265207 -0.93189372]\n",
      " [ 1.09737484  1.27942926  1.48082502 -1.60138573  1.33357087  1.20793548\n",
      "  -1.16230978 -1.06007882]\n",
      " [ 1.00944152 -1.40076671  1.69251456  1.58820051 -1.37538968 -1.41464137\n",
      "  -1.26931176 -1.22014696]\n",
      " [ 1.09081208 -0.8600167  -0.73280113 -0.5185553   0.53047186  0.63357733\n",
      "   0.63924947  0.67553895]\n",
      " [ 1.00601181  1.03589782  1.07706505  0.9673327  -1.07193979 -1.16386683\n",
      "  -0.83582815 -1.05519585]\n",
      " [ 0.9455162   0.91313524  0.95764265  0.92688462 -0.90462058  1.05209455\n",
      "   1.21199476  1.51040953]\n",
      " [ 0.98608838  0.86824517 -1.06756172  1.10299667 -1.20369596 -1.07218759\n",
      "   1.24401176  1.39807484]\n",
      " [ 0.84224812 -0.63447417 -0.50272306  0.4257183  -0.48120179  0.56611694\n",
      "  -0.61657711  0.64427776]\n",
      " [ 0.62951158 -0.4963678  -0.50517509 -0.53169965 -0.58459358 -0.62325547\n",
      "  -0.62545374 -0.62029106]\n",
      " [ 1.07094624  0.91969978 -0.70572639 -0.59826394 -0.49563976  0.41946768\n",
      "   0.51564795  0.57308528]\n",
      " [ 1.03372479  1.08373483  1.14344853 -0.89350177  1.03188095  0.96735423\n",
      "   0.76688377  0.96892517]\n",
      " [ 0.9947877   1.01924092  1.04822554  1.06191637 -1.10831025 -1.090917\n",
      "  -1.04109954  0.97108943]\n",
      " [ 0.83986923 -0.86141186 -1.11193132  0.99913663  0.83801663  0.8520017\n",
      "  -0.84954049 -0.85258682]\n",
      " [ 0.98158973  0.98896611  1.21978619 -1.1443922  -1.37954415 -1.22107134\n",
      "  -1.00415763 -1.10993324]\n",
      " [ 0.94696088  0.92950151  0.9151737   0.83831448  0.97064878 -0.91296279\n",
      "   1.11757115  1.09067598]\n",
      " [ 1.26601078  1.13495867  1.02548396 -0.97092718 -1.05340902 -0.92372072\n",
      "  -0.91087923 -0.89523092]\n",
      " [-0.9446487   0.87272582  0.79348212  0.73347631  0.71216021  0.71894644\n",
      "   0.75514593  0.77739235]\n",
      " [ 0.84223769 -0.63447551 -0.50272409  0.4257159  -0.48119954  0.56611445\n",
      "  -0.61657431  0.64427514]\n",
      " [ 0.62951375 -0.49636709 -0.5051724  -0.53169749 -0.58459203 -0.62325431\n",
      "  -0.62545158 -0.62028841]\n",
      " [ 1.07094574  0.91970343 -0.70572238 -0.59826141 -0.49563864  0.41946633\n",
      "   0.51564631  0.57308314]\n",
      " [ 1.03372481  1.08373505  1.14345205 -0.89350428  1.03187942  0.9673528\n",
      "   0.76688332  0.96892479]\n",
      " [ 0.96714135  0.96346615  0.96186801 -0.87349999 -0.69056395  0.68139925\n",
      "   0.65714043 -0.78446254]\n",
      " [-1.02236398 -1.12804925  0.96987611  0.69399391 -0.65038842 -0.63657641\n",
      "  -0.60337219 -0.72534354]\n",
      " [ 0.8199758  -0.88778311  0.92412122  0.87750898 -0.74704672  0.54643279\n",
      "   0.56956516 -0.63610419]\n",
      " [ 1.22609742  1.18018459  0.92761707  0.82184245  0.74299393 -0.66887088\n",
      "  -0.71043962 -0.70947605]\n",
      " [-1.18839273 -1.21969681 -0.7747847   0.63781319 -0.52538709 -0.50640756\n",
      "  -0.51685343 -0.5176151 ]\n",
      " [ 0.90574336  0.87015708  0.72466404 -0.64711031  0.76443864  0.75845218\n",
      "  -0.70123129  0.66732854]\n",
      " [-0.94400764  0.80652556 -0.89664024 -0.77886987 -0.72719149  0.76866567\n",
      "   0.88486546  0.90452098]\n",
      " [ 1.20862287 -1.04269209 -0.78969118  0.70811636  0.68134788 -0.80381777\n",
      "  -0.95952553 -0.98859658]\n",
      " [ 1.01118846  1.01841416 -0.86671762 -0.65875352 -0.56674453 -0.4895617\n",
      "  -0.79685584  0.93227904]\n",
      " [ 1.04653276  1.09938605  0.79015068  0.58802861  0.57497283  0.59227602\n",
      "   0.59617909  0.60143066]\n",
      " [ 0.95688167  0.69581287 -0.7038479  -0.82806397 -0.76395054 -0.91412707\n",
      "   0.90029359  0.83858048]\n",
      " [ 1.06817404 -0.8434623  -0.68669499 -0.56492956 -0.53519462 -0.54992784\n",
      "  -0.54864071  0.55475528]\n",
      " [ 1.02210408  0.8640738   0.83461303  0.76860654 -0.62512541  0.55586315\n",
      "   0.63547986  0.69618716]\n",
      " [ 0.92199379  0.89076892  0.82656939  0.57098849  0.51322621 -0.42255435\n",
      "   0.46309151  0.52509799]\n",
      " [ 0.93875356  0.9450222   0.73916167 -0.61278072  0.62954544 -0.5517514\n",
      "  -0.49577897 -0.48825215]\n",
      " [ 1.16284075 -1.01198816  0.89301061  0.82935414  0.72444422 -0.56367604\n",
      "  -0.70486453  0.78067795]\n",
      " [ 0.95802414  0.91705067  0.93501756 -0.8273723  -0.74421603 -0.71975368\n",
      "  -0.76435619 -0.80402617]\n",
      " [-0.91854976 -0.7316319  -0.72750786  0.76499757  0.71359921  0.65050262\n",
      "  -0.7040422  -0.78039792]\n",
      " [ 0.          0.          0.          0.          0.          0.\n",
      "   0.          0.        ]\n",
      " [ 0.          0.          0.          0.          0.          0.\n",
      "   0.          0.        ]\n",
      " [ 0.98642943  0.89376388 -0.68233638 -0.54191744  0.50637852 -0.46488816\n",
      "  -0.5503785  -0.67316966]\n",
      " [ 0.99755001  1.00235662 -0.90074228 -0.64105856 -0.67171225  0.6339475\n",
      "  -0.65002472  0.66443082]\n",
      " [ 0.96728324  0.93280018  0.87783428 -0.99862854 -0.87655157 -0.71263576\n",
      "  -0.39304186  0.5367075 ]\n",
      " [ 1.01044571  1.03333299  1.03400753  1.01402456 -1.00126527 -0.90779905\n",
      "   0.72551663  0.80980763]\n",
      " [ 1.03944409  0.95056496  0.91039333  0.92895816 -0.76254478  0.90063546\n",
      "   0.90941946  0.8759676 ]\n",
      " [ 0.98851559  1.01516751  1.12937809  1.16204427  1.13708131  1.0385084\n",
      "   1.01985456  1.25058664]\n",
      " [ 0.96367242  0.89335505 -0.94628974 -1.03196479 -0.91358414  0.957839\n",
      "  -0.97060083  0.93673426]\n",
      " [ 0.99172081  1.04536481  1.08222008  1.00204183  0.65279373 -0.69739774\n",
      "   0.6641648   0.71906234]\n",
      " [ 1.03139353 -1.08736227 -1.16199786  1.2354757   0.92509176  0.62883934\n",
      "   0.64440208  0.88990833]\n",
      " [ 0.99533454  1.06945922  1.28319588  1.07449566  0.91261735 -0.92328675\n",
      "  -1.07040584 -1.13571495]\n",
      " [ 0.97143135  0.97104589  0.95052191  0.92506916  0.99345583  1.26281866\n",
      "   1.12083341  1.08777549]\n",
      " [ 0.98912054  1.00573691 -0.92246921 -0.87472636  0.85860674  1.05010293\n",
      "   1.26930859  1.18698715]]\n"
     ]
    }
   ],
   "source": [
    "print(\"J3 - Proposed PI:\\n\", \"    Floor1      Floor2      Floor3     Floor4      Floor5       Floor6 \\n     Floor7      Floor8 \\n\", J3ri)\n",
    "PJ3i = np.zeros([len(GMdt), 1]) \n",
    "for ijk in range(0,len(GMdt)):\n",
    "    PJ3i[ijk,:] = np.absolute(J3ri[ijk,7])\n",
    "PJ3i[46:56] = PJ3i[48:58]"
   ]
  },
  {
   "cell_type": "code",
   "execution_count": 447,
   "id": "192b0e18",
   "metadata": {},
   "outputs": [
    {
     "name": "stdout",
     "output_type": "stream",
     "text": [
      "0.8690124966723355\n"
     ]
    },
    {
     "data": {
      "text/plain": [
       "(0.7311057093139284, 1.0069192840307426)"
      ]
     },
     "execution_count": 447,
     "metadata": {},
     "output_type": "execute_result"
    }
   ],
   "source": [
    "# define sample data\n",
    "gfg_data10 = PJ3i[0:20,0]\n",
    "gfg_data2 = PJ3i[20:40,0]\n",
    "gfg_data50 = PJ3i[40:57,0]  \n",
    "# create 95% confidence interval\n",
    "print(np.mean(gfg_data10))\n",
    "st.t.interval(alpha=0.95, df=len(gfg_data10)-1,\n",
    "              loc=np.mean(gfg_data10),\n",
    "              scale=st.sem(gfg_data10))"
   ]
  },
  {
   "cell_type": "code",
   "execution_count": 448,
   "id": "077346c2",
   "metadata": {},
   "outputs": [
    {
     "name": "stdout",
     "output_type": "stream",
     "text": [
      "0.7770148484259348\n"
     ]
    },
    {
     "data": {
      "text/plain": [
       "(0.6925121844842692, 0.8615175123676004)"
      ]
     },
     "execution_count": 448,
     "metadata": {},
     "output_type": "execute_result"
    }
   ],
   "source": [
    "# create 95% confidence interval\n",
    "print(np.mean(gfg_data2))\n",
    "st.t.interval(alpha=0.95, df=len(gfg_data2)-1,\n",
    "              loc=np.mean(gfg_data2),\n",
    "              scale=st.sem(gfg_data2))"
   ]
  },
  {
   "cell_type": "code",
   "execution_count": 449,
   "id": "6d7fd16f",
   "metadata": {},
   "outputs": [
    {
     "name": "stdout",
     "output_type": "stream",
     "text": [
      "0.7915669046428802\n"
     ]
    },
    {
     "data": {
      "text/plain": [
       "(0.6879439633732796, 0.8951898459124807)"
      ]
     },
     "execution_count": 449,
     "metadata": {},
     "output_type": "execute_result"
    }
   ],
   "source": [
    "# create 95% confidence interval\n",
    "print(np.mean(gfg_data50))\n",
    "st.t.interval(alpha=0.95, df=len(gfg_data50)-1,\n",
    "              loc=np.mean(gfg_data50),\n",
    "              scale=st.sem(gfg_data50))"
   ]
  },
  {
   "cell_type": "code",
   "execution_count": 450,
   "id": "815549d7",
   "metadata": {},
   "outputs": [
    {
     "name": "stdout",
     "output_type": "stream",
     "text": [
      "J3 - Optimal P:\n",
      "     Floor1      Floor2      Floor3     Floor4      Floor5       Floor6 \n",
      "     Floor7      Floor8 \n",
      " [[ 0.96129167  0.92764369  0.91830462  0.84785254  0.84934619  0.80629979\n",
      "   0.80686552  0.82945395]\n",
      " [ 1.00620579  1.00331968  1.04356362  0.94517432  0.96001929  0.93059767\n",
      "   0.95209306  0.95572953]\n",
      " [-0.96206166  0.92357822  0.92910838  0.90682426  0.9176106   0.89754049\n",
      "   0.94870064  0.95039165]\n",
      " [ 1.00385698  0.97177193  0.96938243 -0.95581962 -0.83991577  0.82716648\n",
      "   0.84279699  0.84970661]\n",
      " [ 0.99507779  0.99606785  0.95609318  0.90788885  0.93438865  0.95563071\n",
      "   0.95830815  0.95769901]\n",
      " [ 1.01910219 -0.97865288  0.95105055  0.90947149  0.92480531  0.92199097\n",
      "  -0.97001211  0.99022632]\n",
      " [ 1.0052211   0.9388701   0.98932418  0.97453662 -0.93906553  0.82039975\n",
      "   0.93085805  0.92320441]\n",
      " [ 1.03664152  0.97058126  1.00216979  0.97677109  0.85206138  0.83744633\n",
      "   0.97203114  1.00154457]\n",
      " [ 1.01421507  0.99154351  1.00213182 -0.94576019  0.82867627 -0.95880239\n",
      "   0.97750185  0.98325187]\n",
      " [ 1.0198999   1.00662605  1.01033685 -0.90239196 -0.92827086  0.95885017\n",
      "   0.95792983  0.95171302]\n",
      " [ 1.04555287  0.89455461  0.95736641  0.92695897  0.93193343  0.89827227\n",
      "   0.91174855  0.91312875]\n",
      " [ 1.02930201  1.03338936  1.05217227  1.10527926 -1.03526745  1.06727274\n",
      "   0.953059   -0.99085094]\n",
      " [ 1.04193703  1.00499313  0.99878138 -0.92890099  0.9424698   0.91720844\n",
      "  -0.86388992  1.0069977 ]\n",
      " [ 0.99430679  0.96556548  0.96944617  0.9683701   0.95965764  0.92412855\n",
      "   0.92695176  0.91292903]\n",
      " [ 0.97947976 -0.97108749  0.9676789   0.95577331  0.96509797  0.99752517\n",
      "   1.00666598  0.95720699]\n",
      " [ 0.97394873  0.98390725  0.98718862  0.96904831  0.97568299  0.9645961\n",
      "   0.97005139  0.97030765]\n",
      " [ 1.04577574  0.94541395  0.90019345  0.86316872  0.86997334  0.87169781\n",
      "   0.90329023  0.93096734]\n",
      " [ 1.00373109  0.99736081  1.03530604  0.88167092  1.00264547  0.99108977\n",
      "  -0.95146027  0.98185432]\n",
      " [ 1.04264941  1.00967403  1.06711119  1.01036359  0.96230246  1.00339888\n",
      "   0.99490442  1.01383498]\n",
      " [ 1.03194223  0.98565181  1.06346606  0.89393506  0.90115225 -0.91853255\n",
      "   0.92708844  0.92439015]\n",
      " [ 1.00594611  0.99027478  0.95521192  0.94443487  0.9602678   0.93512707\n",
      "   0.94810907 -0.96311034]\n",
      " [ 0.98146609  0.97429001  0.97796256  0.97385678  0.90006101  0.92309404\n",
      "   0.97252507  0.96898166]\n",
      " [ 0.97195536  0.89014778  0.87258703 -0.83558475 -0.90975301  0.89577888\n",
      "   0.90598533  0.90726894]\n",
      " [-0.88776959  0.94819921  0.9687919   0.91722653  0.94091504  0.92187346\n",
      "   0.93019013  0.92980835]\n",
      " [ 0.97947824 -0.97109787  0.96767888  0.95577309  0.96509755  0.99752489\n",
      "   1.00666557  0.95720632]\n",
      " [ 0.97394864  0.98390752  0.98718909  0.96904892  0.97568354  0.96459647\n",
      "   0.97005164  0.97030794]\n",
      " [ 1.04577665  0.94541618  0.90019349  0.86316842  0.86997339  0.87169674\n",
      "   0.90328994  0.93096696]\n",
      " [ 1.00373194  0.99736098  1.03530929  0.88167113  1.00264563  0.99109002\n",
      "  -0.95145921  0.98185451]\n",
      " [ 0.98482308  0.96466441  1.00722542  0.95736576  1.00769253  0.90322446\n",
      "   0.90115043  0.90471452]\n",
      " [ 1.04904498  1.01939394  0.9271674   0.93208182  0.88595512  0.93345659\n",
      "   0.9382048   0.93885831]\n",
      " [ 1.03311338  1.04825015  1.03660502  0.96953089  0.92745398  0.8888909\n",
      "   0.88484328 -0.88801392]\n",
      " [-0.96191438  0.93677547  0.97160486  0.90943051  0.94331565  0.86949508\n",
      "   0.92254001  0.92542425]\n",
      " [-0.99515163  0.98164033  0.9790305   0.95709511  0.90633825 -0.86838851\n",
      "   0.87441133  0.8789031 ]\n",
      " [-0.96125854 -0.95687458  0.95052054  0.92257373  0.92581305  0.89929305\n",
      "   0.90676172  0.91125151]\n",
      " [ 1.00148081  0.93148135  0.96821317  0.94941436  0.96846633  0.94700053\n",
      "   0.91738771  0.91112331]\n",
      " [ 1.05107965  0.96678633  0.97872543  0.96182876  0.97805171  0.97162865\n",
      "   0.97176378  0.96602356]\n",
      " [ 1.00221693  0.98997082  0.8975811   0.85852428  0.93805906  0.93354506\n",
      "   0.93819025  0.9847446 ]\n",
      " [ 1.00560122  1.01017618  0.90718459  0.88986355  0.89371456  0.95460647\n",
      "   0.96797119  0.9693337 ]\n",
      " [ 0.99790786  0.97380679  0.9983254   0.95359665  0.93349156  0.93246012\n",
      "   0.98259992  0.98715077]\n",
      " [ 0.99432452  0.93522284  0.94379908  0.89842309 -0.91491689  0.94245035\n",
      "   0.95128139  0.95303965]\n",
      " [ 1.01965098  0.92174046  0.93003783  0.91627002  0.96818905  0.93412831\n",
      "   0.93618988  0.93888228]\n",
      " [ 0.99614107  1.00170817  1.02656883  0.83234954  0.83467756  0.82229724\n",
      "   0.84102874  0.85077136]\n",
      " [ 0.99507743  0.99606773  0.95609252  0.90788828  0.93439383  0.95563038\n",
      "   0.95830778  0.95769862]\n",
      " [ 1.01910128 -0.97865544  0.95104955  0.90947173  0.92480394  0.92199065\n",
      "  -0.97001822  0.99022453]\n",
      " [ 1.02454135  0.96553974  0.94291492  0.92195312  0.95713535  0.86243493\n",
      "   0.88076801  0.88903497]\n",
      " [-1.01461206  0.97795013  1.00427788  0.90638085  0.918332    0.89593651\n",
      "   0.89044822  0.89636289]\n",
      " [ 0.          0.          0.          0.          0.          0.\n",
      "   0.          0.        ]\n",
      " [ 0.          0.          0.          0.          0.          0.\n",
      "   0.          0.        ]\n",
      " [ 1.04419364  0.98395785  0.95965875  0.92611757  0.92578384  0.87929442\n",
      "   0.94167501  0.94203002]\n",
      " [ 1.10785275  1.03756696  0.92957245  0.90019631  0.91992023 -0.88748728\n",
      "  -0.88321468  0.92198731]\n",
      " [ 1.03554086  1.01808046  1.08047692  1.05424982  0.99964999  0.90296204\n",
      "   0.91836917  0.92145244]\n",
      " [ 1.03993413  1.02473319  1.07292794  1.02680101  0.99044094  1.0254218\n",
      "   0.94844593  0.982774  ]\n",
      " [ 1.09262678  0.94714816  0.96509383  1.06564113  1.01646791  0.83672258\n",
      "   0.90764778  0.89660609]\n",
      " [ 1.05117208  1.01917028  1.15798954  0.97734731  0.99393982  0.94603345\n",
      "   0.92823113  0.94539211]\n",
      " [ 0.99993197  0.9839      0.98975818  1.0020429   1.02412617  0.91937022\n",
      "   0.97637848  0.94102101]\n",
      " [ 1.08133455  0.97224427  0.985843    1.00738841  0.87434074  0.84848648\n",
      "   0.89053737  0.89885987]\n",
      " [ 1.04802462  0.98632968 -0.9805292   0.92075223  0.89953177  0.88531636\n",
      "   0.88908656  0.88644313]\n",
      " [ 1.03066953  1.009457    0.99726303 -0.80276331  0.80937863  0.79228373\n",
      "   0.79576174 -0.90296549]\n",
      " [ 0.99872875  0.97363589  0.97431986  0.95120633  0.95749829  0.95321789\n",
      "   0.96547867  0.95763159]\n",
      " [ 0.9872061   0.98964216  1.0016644   0.98068573  0.99007048  0.95735548\n",
      "   0.98432232  0.97270511]]\n"
     ]
    }
   ],
   "source": [
    "print(\"J3 - Optimal P:\\n\", \"    Floor1      Floor2      Floor3     Floor4      Floor5       Floor6 \\n     Floor7      Floor8 \\n\", J3o)\n",
    "PJ3o = np.zeros([len(GMdt), 1]) \n",
    "for ijk in range(0,len(GMdt)):\n",
    "    PJ3o[ijk,:] = np.absolute(J3o[ijk,7])\n",
    "PJ3o[46:56] = PJ3o[48:58]"
   ]
  },
  {
   "cell_type": "code",
   "execution_count": 451,
   "id": "22886e5e",
   "metadata": {},
   "outputs": [
    {
     "name": "stdout",
     "output_type": "stream",
     "text": [
      "0.9497694392091915\n"
     ]
    },
    {
     "data": {
      "text/plain": [
       "(0.9269912654610388, 0.9725476129573443)"
      ]
     },
     "execution_count": 451,
     "metadata": {},
     "output_type": "execute_result"
    }
   ],
   "source": [
    "# define sample data\n",
    "gfg_data10 = PJ3o[0:20,0]\n",
    "gfg_data2 = PJ3o[20:40,0]\n",
    "gfg_data50 = PJ3o[40:57,0]  \n",
    "# create 95% confidence interval\n",
    "print(np.mean(gfg_data10))\n",
    "st.t.interval(alpha=0.95, df=len(gfg_data10)-1,\n",
    "              loc=np.mean(gfg_data10),\n",
    "              scale=st.sem(gfg_data10))"
   ]
  },
  {
   "cell_type": "code",
   "execution_count": 452,
   "id": "6deb3d08",
   "metadata": {},
   "outputs": [
    {
     "name": "stdout",
     "output_type": "stream",
     "text": [
      "0.9414043111243948\n"
     ]
    },
    {
     "data": {
      "text/plain": [
       "(0.9258281509730439, 0.9569804712757457)"
      ]
     },
     "execution_count": 452,
     "metadata": {},
     "output_type": "execute_result"
    }
   ],
   "source": [
    "# create 95% confidence interval\n",
    "print(np.mean(gfg_data2))\n",
    "st.t.interval(alpha=0.95, df=len(gfg_data2)-1,\n",
    "              loc=np.mean(gfg_data2),\n",
    "              scale=st.sem(gfg_data2))"
   ]
  },
  {
   "cell_type": "code",
   "execution_count": 453,
   "id": "78b1c53a",
   "metadata": {},
   "outputs": [
    {
     "name": "stdout",
     "output_type": "stream",
     "text": [
      "0.9205264267013341\n"
     ]
    },
    {
     "data": {
      "text/plain": [
       "(0.9014309491760641, 0.9396219042266041)"
      ]
     },
     "execution_count": 453,
     "metadata": {},
     "output_type": "execute_result"
    }
   ],
   "source": [
    "# create 95% confidence interval\n",
    "print(np.mean(gfg_data50))\n",
    "st.t.interval(alpha=0.95, df=len(gfg_data50)-1,\n",
    "              loc=np.mean(gfg_data50),\n",
    "              scale=st.sem(gfg_data50))"
   ]
  },
  {
   "cell_type": "code",
   "execution_count": 455,
   "id": "a75c392f",
   "metadata": {},
   "outputs": [
    {
     "name": "stdout",
     "output_type": "stream",
     "text": [
      "J3 - Optimal PI:\n",
      "     Floor1      Floor2      Floor3     Floor4      Floor5       Floor6 \n",
      "     Floor7      Floor8 \n",
      " [[ 1.02087675  0.9387241   0.97509389  0.78249248  0.83973272  0.75191749\n",
      "   0.69143632  0.73562038]\n",
      " [ 1.10242922  1.04127456  1.37813405  1.17743793  1.04282352  0.85089745\n",
      "   0.90061346  0.91511845]\n",
      " [ 1.07523406  0.91259724  0.91048694  0.87346115  0.88136348  0.84680411\n",
      "   0.99011483  0.98536053]\n",
      " [ 1.10412431  1.0291989   1.02118679 -1.04342393  0.83475877  0.75931627\n",
      "   0.7849965  -0.83497405]\n",
      " [ 1.08445096  1.04369712  1.00618125  0.8812519   0.94615623  0.93766217\n",
      "   0.9313516   0.91475982]\n",
      " [ 1.15265665 -1.02239477  0.97521968  0.83188695  0.88718388 -0.90962468\n",
      "  -1.01208135  1.01434395]\n",
      " [ 1.16321438  0.99624778  1.13225732  1.07575412  0.97877057  0.76291289\n",
      "   0.91067822  0.90777773]\n",
      " [ 1.21566066  1.01700645  1.15589835  1.05985867 -0.88538351  0.82796377\n",
      "   1.03934223  1.06303711]\n",
      " [ 1.12251036  1.0523983   1.14930929 -1.09442594  0.7859452  -0.98171374\n",
      "   1.0048364   1.0411542 ]\n",
      " [-1.16906816  1.05737756  1.35685265 -1.188722   -1.05009398  1.01134384\n",
      "   0.96155659  0.94049099]\n",
      " [-1.31923972  0.8836396   0.99899736  0.90763062  0.90198782  0.90936626\n",
      "   0.92370081  0.91937283]\n",
      " [ 1.21219533  1.11815301  1.69471046 -1.73067647 -1.65673567  1.62025989\n",
      "   0.96340669 -1.10236381]\n",
      " [ 1.26247579  1.05179759  1.05298376 -1.1161106   0.96478955  0.89601336\n",
      "   0.80815398  1.0957592 ]\n",
      " [ 1.19012696  0.98782804  1.07186048  1.14809871  1.02958204  0.90091704\n",
      "   0.86113754 -0.90164826]\n",
      " [ 1.01227621  0.97233832  0.96342405  0.97158328  0.94658337  1.00265849\n",
      "   1.01430161 -0.96156825]\n",
      " [ 0.97653712  0.95748601  0.9418274   0.93884765  0.93243713  0.95422949\n",
      "   0.95808497  0.95834612]\n",
      " [ 1.23597497  0.98633439  0.87330795  0.78247719  0.78183598  0.81957121\n",
      "   0.86877203  0.90399769]\n",
      " [ 1.13412264  1.04964868  1.47689582 -0.88491098  1.09484935  1.14761941\n",
      "  -0.96290366  1.00777966]\n",
      " [ 1.22796992  1.08738272  1.46117977  1.2441994  -1.1252061   1.3145178\n",
      "   1.12203917  1.17904341]\n",
      " [ 1.19302722  1.02216343  1.42214057  1.16400301  1.07321045 -1.00706044\n",
      "   1.02091038  0.9795176 ]\n",
      " [ 1.09940233  1.02452891  1.03707447 -0.98844172  1.05702076  0.95066965\n",
      "   0.97025996 -0.99551291]\n",
      " [ 1.02860419  1.00790417  1.05090151  1.01878139 -1.03899126 -0.95452125\n",
      "   1.00907115  1.00351615]\n",
      " [ 0.98669514  0.86834014 -0.86990955 -0.83506522 -0.90724985  0.85179718\n",
      "   0.85967358  0.85916008]\n",
      " [-0.91361013  0.95067439  1.00083093  0.87692049  0.91619375  0.86498105\n",
      "   0.87554145  0.87464862]\n",
      " [ 1.01227692  0.97233763  0.96342454  0.97158242  0.94658268  1.00266097\n",
      "   1.01430076 -0.96156579]\n",
      " [ 0.97653968  0.95748692  0.94182822  0.93884826  0.93243781  0.95423045\n",
      "   0.95808536  0.95834658]\n",
      " [ 1.23597657  0.98633828  0.87330696  0.78247658  0.78183583  0.81957022\n",
      "   0.86877096  0.90399676]\n",
      " [ 1.13411841  1.04964884  1.47689886 -0.88491288  1.09484948  1.14761832\n",
      "  -0.96290256  1.0077793 ]\n",
      " [-1.12014296  1.02443712  1.28787529  1.20017269  1.28314495  0.9722817\n",
      "   0.88919238  0.89261761]\n",
      " [ 1.35917748  1.14549051  1.06113262 -1.10805704 -0.89113445  0.91154491\n",
      "   0.90744546  0.89970822]\n",
      " [ 1.16162318  1.07980434  1.22290219  1.06496103 -0.9257976   0.83086833\n",
      "   0.81792122 -0.87870345]\n",
      " [ 1.0434746   0.93210287  1.01631221  0.87590759  0.97269757 -0.82770734\n",
      "   0.88450539  0.89152577]\n",
      " [-1.13087575  1.04217124  1.05411254  0.96736657 -0.92806059  0.82014483\n",
      "   0.80727749  0.81226357]\n",
      " [-0.99799966 -0.98123935  0.99113546  0.89685235  0.93274607  0.84002747\n",
      "   0.81551404  0.82146166]\n",
      " [-1.14739388  0.92926492  0.97465617  0.96774197  0.98727155  0.90212323\n",
      "   0.8741847   0.85926299]\n",
      " [ 1.19626585  0.9708867   0.95943276  0.96837213  0.96213312  0.96392217\n",
      "   0.98968593  0.99858074]\n",
      " [ 1.08600317  1.03504003  0.89656207  0.90279723 -0.92973356  0.92757084\n",
      "  -0.9254776   1.05915284]\n",
      " [ 1.09344992  1.07890226 -0.89116352  0.82893458  0.83837231  0.94781332\n",
      "   0.96816753  0.97362675]\n",
      " [ 1.16769339  0.98458856  1.13191075  0.94129715  0.90479719 -0.97257885\n",
      "   1.02431641  1.04054912]\n",
      " [ 1.06860025  0.92241488  0.95942649  0.84188283 -0.93412121  0.91498939\n",
      "   0.92471506  0.92644948]\n",
      " [ 1.1515595   0.92361071  0.94435771  0.92590841  0.99782867  0.95762482\n",
      "   0.96762007  0.98797654]\n",
      " [ 1.05849269  1.05973321  1.17290048 -0.82678949 -0.81592212  0.73381985\n",
      "   0.77379189 -0.80580705]\n",
      " [ 1.08445876  1.04369845  1.00617997  0.88125159  0.94616015  0.93766159\n",
      "   0.93135173  0.91475965]\n",
      " [ 1.15265378 -1.02239608  0.97521748  0.83188721  0.88718136 -0.90963015\n",
      "  -1.01208634  1.01434122]\n",
      " [ 1.18504832  1.01502646  1.00736461 -0.90870678  0.93503842  0.86348976\n",
      "   0.85955177  0.86567688]\n",
      " [-1.16916261  0.99447749  1.13123391  0.89735813  0.97356507  0.83312185\n",
      "   0.82434133  0.83170831]\n",
      " [ 0.          0.          0.          0.          0.          0.\n",
      "   0.          0.        ]\n",
      " [ 0.          0.          0.          0.          0.          0.\n",
      "   0.          0.        ]\n",
      " [ 1.33093919  1.05849168  0.95980589  0.86041194  0.88694092 -0.86980597\n",
      "   0.93760846  0.91434949]\n",
      " [ 1.41871654  1.17858802 -1.33014761 -1.12058678 -0.9914912  -0.8229581\n",
      "  -0.85810435  0.94565176]\n",
      " [ 1.24972031  1.0878894   1.61650392  1.48961981  1.12072436  1.07153688\n",
      "   0.90014508  0.91006738]\n",
      " [ 1.23612838  1.11817539  1.45922113  1.24818098  1.02552859  1.38591187\n",
      "   1.00213237  1.10631712]\n",
      " [ 1.49443967  0.98587408  1.39771666  1.59114609  1.23169992  0.87769963\n",
      "   0.88675596  0.94934362]\n",
      " [ 1.24848713  1.08032777  1.73458078  1.65288158 -1.46033981  0.97444044\n",
      "   0.89905352 -1.01647023]\n",
      " [ 1.15709763  1.06054606  1.10646927  1.17831646  1.19785831 -0.96063072\n",
      "   1.00585393 -0.92562807]\n",
      " [ 1.45155094  1.04103112  1.11744237  1.30853737  0.8959246   0.82809282\n",
      "   0.85207977  0.85789268]\n",
      " [-1.28431463  1.0486906  -1.28197798 -1.13162893  0.87506195  0.83104266\n",
      "   0.82300238  0.81143527]\n",
      " [ 1.27057064  1.10235805 -1.23025942  0.96520369 -0.74482799  0.68568099\n",
      "  -0.82025389 -0.94838176]\n",
      " [ 1.09953468  1.00955557  1.07417633  0.98401473  1.04183634  0.91909548\n",
      "   1.01262397  0.98372764]\n",
      " [ 1.03913027  1.02312933  1.19523127  1.07127273  1.16143335  0.93033158\n",
      "   1.05895343  1.01113835]]\n"
     ]
    }
   ],
   "source": [
    "print(\"J3 - Optimal PI:\\n\", \"    Floor1      Floor2      Floor3     Floor4      Floor5       Floor6 \\n     Floor7      Floor8 \\n\", J3oi)\n",
    "PJ3oi = np.zeros([len(GMdt), 1]) \n",
    "for ijk in range(0,len(GMdt)):\n",
    "    PJ3oi[ijk,:] = np.absolute(J3oi[ijk,7])\n",
    "PJ3oi[46:56] = PJ3oi[48:58]"
   ]
  },
  {
   "cell_type": "code",
   "execution_count": 456,
   "id": "908d39d9",
   "metadata": {},
   "outputs": [
    {
     "name": "stdout",
     "output_type": "stream",
     "text": [
      "0.9681017022146555\n"
     ]
    },
    {
     "data": {
      "text/plain": [
       "(0.921279128859913, 1.014924275569398)"
      ]
     },
     "execution_count": 456,
     "metadata": {},
     "output_type": "execute_result"
    }
   ],
   "source": [
    "# define sample data\n",
    "gfg_data10 = PJ3oi[0:20,0]\n",
    "gfg_data2 = PJ3oi[20:40,0]\n",
    "gfg_data50 = PJ3oi[40:57,0]  \n",
    "# create 95% confidence interval\n",
    "print(np.mean(gfg_data10))\n",
    "st.t.interval(alpha=0.95, df=len(gfg_data10)-1,\n",
    "              loc=np.mean(gfg_data10),\n",
    "              scale=st.sem(gfg_data10))"
   ]
  },
  {
   "cell_type": "code",
   "execution_count": 457,
   "id": "ebe3a9d1",
   "metadata": {},
   "outputs": [
    {
     "name": "stdout",
     "output_type": "stream",
     "text": [
      "0.9309214196578391\n"
     ]
    },
    {
     "data": {
      "text/plain": [
       "(0.8971585980382719, 0.9646842412774064)"
      ]
     },
     "execution_count": 457,
     "metadata": {},
     "output_type": "execute_result"
    }
   ],
   "source": [
    "# create 95% confidence interval\n",
    "print(np.mean(gfg_data2))\n",
    "st.t.interval(alpha=0.95, df=len(gfg_data2)-1,\n",
    "              loc=np.mean(gfg_data2),\n",
    "              scale=st.sem(gfg_data2))"
   ]
  },
  {
   "cell_type": "code",
   "execution_count": 458,
   "id": "cb479268",
   "metadata": {},
   "outputs": [
    {
     "name": "stdout",
     "output_type": "stream",
     "text": [
      "0.9186613116914037\n"
     ]
    },
    {
     "data": {
      "text/plain": [
       "(0.8757900632095126, 0.9615325601732949)"
      ]
     },
     "execution_count": 458,
     "metadata": {},
     "output_type": "execute_result"
    }
   ],
   "source": [
    "# create 95% confidence interval\n",
    "print(np.mean(gfg_data50))\n",
    "st.t.interval(alpha=0.95, df=len(gfg_data50)-1,\n",
    "              loc=np.mean(gfg_data50),\n",
    "              scale=st.sem(gfg_data50))"
   ]
  },
  {
   "cell_type": "code",
   "execution_count": 345,
   "id": "8421d5bb",
   "metadata": {},
   "outputs": [
    {
     "name": "stdout",
     "output_type": "stream",
     "text": [
      "J4 - Proposed P:\n",
      " [[0.18572069]\n",
      " [0.37417056]\n",
      " [0.47515888]\n",
      " [0.28308819]\n",
      " [0.65631869]\n",
      " [0.61939975]\n",
      " [0.31494841]\n",
      " [0.79384424]\n",
      " [0.72245151]\n",
      " [0.70714115]\n",
      " [0.37977628]\n",
      " [0.91623008]\n",
      " [0.78585397]\n",
      " [0.63074558]\n",
      " [0.62773978]\n",
      " [0.63453595]\n",
      " [0.26218419]\n",
      " [0.64551645]\n",
      " [1.08580986]\n",
      " [0.6107932 ]\n",
      " [0.68872186]\n",
      " [0.66266402]\n",
      " [0.84307352]\n",
      " [0.39031348]\n",
      " [0.6277359 ]\n",
      " [0.63452169]\n",
      " [0.2621836 ]\n",
      " [0.64551881]\n",
      " [0.52395179]\n",
      " [0.42823864]\n",
      " [0.28254987]\n",
      " [0.3678017 ]\n",
      " [0.26150635]\n",
      " [0.36455444]\n",
      " [0.55919663]\n",
      " [0.63051328]\n",
      " [0.41039237]\n",
      " [0.59028504]\n",
      " [0.76058567]\n",
      " [0.44511869]\n",
      " [0.51661319]\n",
      " [0.23477864]\n",
      " [0.6563206 ]\n",
      " [0.61939463]\n",
      " [0.35146113]\n",
      " [0.36376248]\n",
      " [0.        ]\n",
      " [0.        ]\n",
      " [0.48226956]\n",
      " [0.35248768]\n",
      " [0.34262364]\n",
      " [0.76617749]\n",
      " [0.42013579]\n",
      " [0.44281457]\n",
      " [0.85102378]\n",
      " [0.31886304]\n",
      " [0.29854528]\n",
      " [0.26046301]\n",
      " [1.06798224]\n",
      " [1.00145226]]\n"
     ]
    }
   ],
   "source": [
    "print(\"J4 - Proposed P:\\n\", J4r)"
   ]
  },
  {
   "cell_type": "code",
   "execution_count": null,
   "id": "bd1368eb",
   "metadata": {},
   "outputs": [],
   "source": [
    "print(\"J4 - Proposed PI:\\n\", J4ri)"
   ]
  },
  {
   "cell_type": "code",
   "execution_count": 330,
   "id": "804670ca",
   "metadata": {},
   "outputs": [
    {
     "name": "stdout",
     "output_type": "stream",
     "text": [
      "J4 - Optimal:\n",
      " [[0.65388677]\n",
      " [0.84250755]\n",
      " [0.8586926 ]\n",
      " [0.67541142]\n",
      " [0.87741226]\n",
      " [0.92987978]\n",
      " [0.65978319]\n",
      " [0.8836278 ]\n",
      " [0.7562345 ]\n",
      " [0.92788285]\n",
      " [0.82585062]\n",
      " [0.96681112]\n",
      " [0.86654409]\n",
      " [0.89732543]\n",
      " [0.94772398]\n",
      " [0.82455837]\n",
      " [0.76038852]\n",
      " [0.88783663]\n",
      " [1.01373895]\n",
      " [0.78358611]\n",
      " [0.95163396]\n",
      " [0.91903775]\n",
      " [0.84383814]\n",
      " [0.81266615]\n",
      " [0.94772331]\n",
      " [0.82453793]\n",
      " [0.76038818]\n",
      " [0.88783647]\n",
      " [0.8261357 ]\n",
      " [0.75957705]\n",
      " [0.73239477]\n",
      " [0.8124882 ]\n",
      " [0.77648707]\n",
      " [0.78988959]\n",
      " [0.86135005]\n",
      " [0.90134413]\n",
      " [0.77336049]\n",
      " [0.80493479]\n",
      " [0.96014024]\n",
      " [0.87535434]\n",
      " [0.88636043]\n",
      " [0.70985499]\n",
      " [0.87741147]\n",
      " [0.92987772]\n",
      " [0.82351943]\n",
      " [0.86264824]\n",
      " [0.        ]\n",
      " [0.        ]\n",
      " [0.87012045]\n",
      " [0.79497591]\n",
      " [0.8307297 ]\n",
      " [0.94936081]\n",
      " [0.75811822]\n",
      " [0.8719943 ]\n",
      " [0.89095857]\n",
      " [0.74625997]\n",
      " [0.81426931]\n",
      " [0.57663434]\n",
      " [1.01535323]\n",
      " [1.00994897]]\n"
     ]
    }
   ],
   "source": [
    "print(\"J4 - Optimal:\\n\", J4o)"
   ]
  },
  {
   "cell_type": "code",
   "execution_count": 40,
   "id": "cf163bf3",
   "metadata": {},
   "outputs": [
    {
     "name": "stdout",
     "output_type": "stream",
     "text": [
      "J5 - proposed:\n",
      " [[ 0.0020647   0.00168356 -0.00089367]\n",
      " [ 0.00189766  0.00174181  0.00097583]\n",
      " [-0.00351372 -0.00344493 -0.00199031]\n",
      " [-0.00369555 -0.00339433 -0.00190102]\n",
      " [-0.00477157 -0.00446797 -0.00252895]\n",
      " [-0.00240388 -0.0024737  -0.0014501 ]\n",
      " [ 0.00153685  0.00159701  0.00094028]\n",
      " [-0.0017889  -0.00170408 -0.00097028]\n",
      " [ 0.00254588  0.00214778  0.00135141]\n",
      " [ 0.00216379  0.00193322  0.00109785]\n",
      " [-0.00240925 -0.00220232 -0.00123183]\n",
      " [-0.00179008 -0.00162316 -0.00090449]\n",
      " [ 0.0032214   0.00278958  0.00152271]\n",
      " [ 0.00308117  0.00249804  0.00131951]\n",
      " [ 0.00919909  0.00899236  0.00518263]\n",
      " [-0.00903753 -0.00871826  0.00503368]\n",
      " [ 0.002489    0.00224656  0.00124978]\n",
      " [ 0.00369561  0.00336072  0.00187603]\n",
      " [-0.00202061 -0.00188387 -0.00106839]\n",
      " [ 0.00315184  0.0029173   0.00164362]\n",
      " [ 0.00523672  0.00430763  0.00229286]\n",
      " [ 0.00432079  0.00363031  0.00195526]\n",
      " [ 0.00423883  0.00379505  0.00210492]\n",
      " [ 0.00778516  0.006764    0.00386773]\n",
      " [ 0.01497064  0.01463421  0.00843424]\n",
      " [-0.01470768 -0.01418811  0.00819183]\n",
      " [ 0.00405019  0.00365569  0.00203369]\n",
      " [ 0.00601366  0.00546871  0.00305276]\n",
      " [ 0.00205622  0.00184391  0.00108675]\n",
      " [-0.00400924 -0.00371159 -0.00208529]\n",
      " [-0.00722995 -0.00672566 -0.00380714]\n",
      " [-0.01032049 -0.00875666 -0.00475554]\n",
      " [-0.0069865  -0.00666302 -0.0037945 ]\n",
      " [ 0.00607473  0.00586539  0.00335618]\n",
      " [ 0.01154316  0.01064248  0.00598119]\n",
      " [ 0.01325269  0.01278461  0.00731545]\n",
      " [-0.00493658 -0.00454687 -0.00255432]\n",
      " [-0.00495719 -0.00480561 -0.0027564 ]\n",
      " [ 0.0023291   0.00223943  0.00130964]\n",
      " [ 0.00447362  0.00440662  0.00254783]\n",
      " [-0.00381854  0.00360913  0.00212396]\n",
      " [ 0.00173905  0.00161759  0.00091081]\n",
      " [-0.0022699  -0.00212547 -0.00120306]\n",
      " [-0.00114356 -0.00117678 -0.00068983]\n",
      " [ 0.00075371  0.00065988  0.0003616 ]\n",
      " [ 0.00074084  0.00067253 -0.00038248]\n",
      " [ 0.          0.          0.        ]\n",
      " [ 0.          0.          0.        ]\n",
      " [-0.00088704 -0.00077109 -0.00042304]\n",
      " [-0.00074    -0.00065586 -0.00036186]\n",
      " [-0.00122878 -0.00110883 -0.00061692]\n",
      " [-0.00119674 -0.00104683 -0.00057388]\n",
      " [-0.00098801 -0.00086409 -0.00047402]\n",
      " [ 0.00099308  0.00094372  0.00053644]\n",
      " [ 0.00129424  0.00111747  0.00061092]\n",
      " [-0.0009983  -0.0008051  -0.00042413]\n",
      " [-0.00075311 -0.00062297 -0.00033253]\n",
      " [-0.00092685 -0.00078392 -0.00044926]\n",
      " [-0.00341465 -0.00287775 -0.00155042]\n",
      " [-0.00200544 -0.00175051 -0.00096051]]\n"
     ]
    }
   ],
   "source": [
    "print(\"J5 - proposed:\\n\", J5ri)\n",
    "PJ5o = np.zeros([len(GMdt), 1]) \n",
    "for ijk in range(0,len(GMdt)):\n",
    "    PJ5o[ijk,:] = np.absolute(J5ri[ijk,0])+np.absolute(J5ri[ijk,1])+np.absolute(J5ri[ijk,2])\n",
    "PJ5o[46:56] = PJ5o[48:58]"
   ]
  },
  {
   "cell_type": "code",
   "execution_count": 43,
   "id": "b478503e",
   "metadata": {},
   "outputs": [
    {
     "name": "stdout",
     "output_type": "stream",
     "text": [
      "0.00817155256585777\n"
     ]
    },
    {
     "data": {
      "text/plain": [
       "(0.005609163686722122, 0.01073394144499342)"
      ]
     },
     "execution_count": 43,
     "metadata": {},
     "output_type": "execute_result"
    }
   ],
   "source": [
    "# define sample data\n",
    "gfg_data10 = PJ5o[0:20,0]\n",
    "gfg_data2 = PJ5o[20:40,0]\n",
    "gfg_data50 = PJ5o[40:57,0]  \n",
    "# create 95% confidence interval\n",
    "print(np.mean(gfg_data10))\n",
    "st.t.interval(alpha=0.95, df=len(gfg_data10)-1,\n",
    "              loc=np.mean(gfg_data10),\n",
    "              scale=st.sem(gfg_data10))"
   ]
  }
 ],
 "metadata": {
  "kernelspec": {
   "display_name": "Python 3 (ipykernel)",
   "language": "python",
   "name": "python3"
  },
  "language_info": {
   "codemirror_mode": {
    "name": "ipython",
    "version": 3
   },
   "file_extension": ".py",
   "mimetype": "text/x-python",
   "name": "python",
   "nbconvert_exporter": "python",
   "pygments_lexer": "ipython3",
   "version": "3.10.8"
  }
 },
 "nbformat": 4,
 "nbformat_minor": 5
}
